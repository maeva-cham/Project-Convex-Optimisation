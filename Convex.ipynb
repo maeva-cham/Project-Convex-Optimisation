{
  "cells": [
    {
      "cell_type": "markdown",
      "source": "# Project Convex Optimisation\n\n### **Members of Naruto: Saison 1, Episode 3, 9:18:** \n\n- BERNADINE Léna  \n- CHAMBEAU Maëva\n- FONTAINE Nicola\n- ODUFEJO OGOE Olubukola",
      "metadata": {
        "tags": [],
        "cell_id": "00000-c6baa03f-167c-4a56-9d72-702f8a18aadf",
        "deepnote_cell_type": "markdown"
      }
    },
    {
      "cell_type": "markdown",
      "source": "#### About this file  \n**Context**\n\nThis datasets is related to red variants of the Portuguese \"Vinho Verde\" wine. \nFor more details, consult the reference [Cortez et al., 2009]. Due to privacy and logistic issues, only physicochemical (inputs) and sensory (the output) variables are available (e.g. there is no data about grape types, wine brand, wine selling price, etc.).\n\nThe datasets can be viewed as classification or regression tasks. The classes are ordered and not balanced (e.g. there are much more normal wines than excellent or poor ones).\n\n**Content**\n\nInput variables (based on physicochemical tests):  \n1. fixed acidity  \n2. volatile acidity  \n3. citric acid  \n4. residual sugar  \n5. chlorides  \n6. free sulfur dioxide  \n7. total sulfur dioxide  \n8. density  \n9. pH  \n10. sulphates  \n11. alcohol\n\nOutput variable (based on sensory data):  \n12. quality (score between 0 and 10)\n\nTips\n\nWhat might be an interesting thing to do, is, aside from using regression modelling, is to set an arbitrary cutoff for your dependent variable (wine quality) at e.g. 7 or higher getting classified as 'good/1' and the remainder as 'not good/0'. This allows you to practice with hyper parameter tuning on e.g. decision tree algorithms looking at the ROC curve and the AUC value. Without doing any kind of feature engineering or overfitting you should be able to get an AUC of .88 (without even using random forest algorithm)\n\nKNIME is a great tool (GUI) that can be used for this.\n1 - File Reader (for csv) to linear correlation node and to interactive histogram for basic EDA.\n2- File Reader to 'Rule Engine Node' to turn the 10 point scale to dichtome variable (good wine and rest), the code to put in the rule engine is something like this:\n\n$quality$ > 6.5 => \"good\"\nTRUE => \"bad\"\n3- Rule Engine Node output to input of Column Filter node to filter out your original 10point feature (this prevent leaking)\n4- Column Filter Node output to input of Partitioning Node (your standard train/tes split, e.g. 75%/25%, choose 'random' or 'stratified')\n5- Partitioning Node train data split output to input of Train data split to input Decision Tree Learner node and\n6- Partitioning Node test data split output to input Decision Tree predictor Node\n7- Decision Tree learner Node output to input Decision Tree Node input\n8- Decision Tree output to input ROC Node.. (here you can evaluate your model base on AUC value)\n\n\n**Acknowledgements**\n\nThis dataset is also available from the UCI machine learning repository, https://archive.ics.uci.edu/ml/datasets/wine+quality.\n\n**Relevant publication**\n\nP. Cortez, A. Cerdeira, F. Almeida, T. Matos and J. Reis. Modeling wine preferences by data mining from physicochemical properties. In Decision Support Systems, Elsevier, 47(4):547-553, 2009.",
      "metadata": {
        "tags": [],
        "cell_id": "00001-2c895a22-ec69-4066-8d25-69b007ef64d9",
        "deepnote_cell_type": "markdown"
      }
    },
    {
      "cell_type": "markdown",
      "source": "#### Main Goal\n\nUse machine learning to determine which physiochemical properties make a wine 'good'!",
      "metadata": {
        "tags": [],
        "cell_id": "00002-4ac0899b-2494-4e02-86cf-67b2eca2cd60",
        "deepnote_cell_type": "markdown"
      }
    },
    {
      "cell_type": "markdown",
      "source": "#### Libraries imported",
      "metadata": {
        "tags": [],
        "cell_id": "00001-356f54ed-7068-48f6-9422-3bacf0a910ee",
        "deepnote_cell_type": "markdown"
      }
    },
    {
      "cell_type": "code",
      "metadata": {
        "tags": [],
        "cell_id": "00000-dc6181ee-2af1-4f75-a30b-1838b3d77d58",
        "deepnote_to_be_reexecuted": false,
        "source_hash": "c6ec584e",
        "execution_millis": 2190,
        "execution_start": 1617124900809,
        "deepnote_cell_type": "code"
      },
      "source": "import matplotlib.pyplot as plt\nimport pandas as pd \nimport numpy as np\nimport seaborn as sns\nimport warnings\n\nimport plotly.graph_objects as go\nimport plotly.express as px\n\nfrom sklearn.preprocessing import StandardScaler\nfrom sklearn.preprocessing import RobustScaler\nfrom sklearn.model_selection import train_test_split\nfrom sklearn.svm import SVC\n\n\nfrom sklearn.linear_model import LogisticRegression\nfrom sklearn.tree import DecisionTreeRegressor,DecisionTreeClassifier\nfrom sklearn.ensemble import RandomForestRegressor, RandomForestClassifier\n\nfrom sklearn.neighbors import KNeighborsClassifier\nfrom sklearn.model_selection import cross_val_score\nfrom sklearn.datasets import make_classification\nfrom sklearn.metrics import plot_confusion_matrix\nfrom sklearn.metrics import confusion_matrix, accuracy_score, ConfusionMatrixDisplay",
      "outputs": [],
      "execution_count": null
    },
    {
      "cell_type": "code",
      "metadata": {
        "tags": [],
        "cell_id": "00003-77f0e694-2241-41ca-bb75-d0114331b859",
        "deepnote_to_be_reexecuted": false,
        "source_hash": "499cfa9c",
        "execution_millis": 136,
        "execution_start": 1617124902999,
        "deepnote_cell_type": "code"
      },
      "source": "df = pd.read_csv('winequality-red.csv')\ndf",
      "outputs": [
        {
          "output_type": "execute_result",
          "execution_count": 2,
          "data": {
            "application/vnd.deepnote.dataframe.v2+json": {
              "row_count": 1599,
              "column_count": 12,
              "columns": [
                {
                  "name": "fixed acidity",
                  "dtype": "float64",
                  "stats": {
                    "unique_count": 96,
                    "nan_count": 0,
                    "min": 4.6,
                    "max": 15.9,
                    "histogram": [
                      {
                        "bin_start": 4.6,
                        "bin_end": 5.7299999999999995,
                        "count": 45
                      },
                      {
                        "bin_start": 5.7299999999999995,
                        "bin_end": 6.859999999999999,
                        "count": 229
                      },
                      {
                        "bin_start": 6.859999999999999,
                        "bin_end": 7.99,
                        "count": 542
                      },
                      {
                        "bin_start": 7.99,
                        "bin_end": 9.120000000000001,
                        "count": 371
                      },
                      {
                        "bin_start": 9.120000000000001,
                        "bin_end": 10.25,
                        "count": 188
                      },
                      {
                        "bin_start": 10.25,
                        "bin_end": 11.38,
                        "count": 110
                      },
                      {
                        "bin_start": 11.38,
                        "bin_end": 12.510000000000002,
                        "count": 76
                      },
                      {
                        "bin_start": 12.510000000000002,
                        "bin_end": 13.64,
                        "count": 26
                      },
                      {
                        "bin_start": 13.64,
                        "bin_end": 14.770000000000001,
                        "count": 5
                      },
                      {
                        "bin_start": 14.770000000000001,
                        "bin_end": 15.9,
                        "count": 7
                      }
                    ]
                  }
                },
                {
                  "name": "volatile acidity",
                  "dtype": "float64",
                  "stats": {
                    "unique_count": 143,
                    "nan_count": 0,
                    "min": 0.12,
                    "max": 1.58,
                    "histogram": [
                      {
                        "bin_start": 0.12,
                        "bin_end": 0.266,
                        "count": 73
                      },
                      {
                        "bin_start": 0.266,
                        "bin_end": 0.412,
                        "count": 405
                      },
                      {
                        "bin_start": 0.412,
                        "bin_end": 0.5579999999999999,
                        "count": 423
                      },
                      {
                        "bin_start": 0.5579999999999999,
                        "bin_end": 0.704,
                        "count": 475
                      },
                      {
                        "bin_start": 0.704,
                        "bin_end": 0.85,
                        "count": 148
                      },
                      {
                        "bin_start": 0.85,
                        "bin_end": 0.9959999999999999,
                        "count": 51
                      },
                      {
                        "bin_start": 0.9959999999999999,
                        "bin_end": 1.142,
                        "count": 18
                      },
                      {
                        "bin_start": 1.142,
                        "bin_end": 1.2879999999999998,
                        "count": 3
                      },
                      {
                        "bin_start": 1.2879999999999998,
                        "bin_end": 1.4339999999999997,
                        "count": 2
                      },
                      {
                        "bin_start": 1.4339999999999997,
                        "bin_end": 1.58,
                        "count": 1
                      }
                    ]
                  }
                },
                {
                  "name": "citric acid",
                  "dtype": "float64",
                  "stats": {
                    "unique_count": 80,
                    "nan_count": 0,
                    "min": 0,
                    "max": 1,
                    "histogram": [
                      {
                        "bin_start": 0,
                        "bin_end": 0.1,
                        "count": 403
                      },
                      {
                        "bin_start": 0.1,
                        "bin_end": 0.2,
                        "count": 203
                      },
                      {
                        "bin_start": 0.2,
                        "bin_end": 0.30000000000000004,
                        "count": 316
                      },
                      {
                        "bin_start": 0.30000000000000004,
                        "bin_end": 0.4,
                        "count": 205
                      },
                      {
                        "bin_start": 0.4,
                        "bin_end": 0.5,
                        "count": 262
                      },
                      {
                        "bin_start": 0.5,
                        "bin_end": 0.6000000000000001,
                        "count": 132
                      },
                      {
                        "bin_start": 0.6000000000000001,
                        "bin_end": 0.7000000000000001,
                        "count": 62
                      },
                      {
                        "bin_start": 0.7000000000000001,
                        "bin_end": 0.8,
                        "count": 15
                      },
                      {
                        "bin_start": 0.8,
                        "bin_end": 0.9,
                        "count": 0
                      },
                      {
                        "bin_start": 0.9,
                        "bin_end": 1,
                        "count": 1
                      }
                    ]
                  }
                },
                {
                  "name": "residual sugar",
                  "dtype": "float64",
                  "stats": {
                    "unique_count": 91,
                    "nan_count": 0,
                    "min": 0.9,
                    "max": 15.5,
                    "histogram": [
                      {
                        "bin_start": 0.9,
                        "bin_end": 2.36,
                        "count": 994
                      },
                      {
                        "bin_start": 2.36,
                        "bin_end": 3.82,
                        "count": 463
                      },
                      {
                        "bin_start": 3.82,
                        "bin_end": 5.28,
                        "count": 67
                      },
                      {
                        "bin_start": 5.28,
                        "bin_end": 6.74,
                        "count": 45
                      },
                      {
                        "bin_start": 6.74,
                        "bin_end": 8.2,
                        "count": 11
                      },
                      {
                        "bin_start": 8.2,
                        "bin_end": 9.66,
                        "count": 8
                      },
                      {
                        "bin_start": 9.66,
                        "bin_end": 11.12,
                        "count": 3
                      },
                      {
                        "bin_start": 11.12,
                        "bin_end": 12.58,
                        "count": 0
                      },
                      {
                        "bin_start": 12.58,
                        "bin_end": 14.040000000000001,
                        "count": 5
                      },
                      {
                        "bin_start": 14.040000000000001,
                        "bin_end": 15.5,
                        "count": 3
                      }
                    ]
                  }
                },
                {
                  "name": "chlorides",
                  "dtype": "float64",
                  "stats": {
                    "unique_count": 153,
                    "nan_count": 0,
                    "min": 0.012,
                    "max": 0.611,
                    "histogram": [
                      {
                        "bin_start": 0.012,
                        "bin_end": 0.07189999999999999,
                        "count": 457
                      },
                      {
                        "bin_start": 0.07189999999999999,
                        "bin_end": 0.1318,
                        "count": 1064
                      },
                      {
                        "bin_start": 0.1318,
                        "bin_end": 0.19169999999999998,
                        "count": 35
                      },
                      {
                        "bin_start": 0.19169999999999998,
                        "bin_end": 0.2516,
                        "count": 18
                      },
                      {
                        "bin_start": 0.2516,
                        "bin_end": 0.3115,
                        "count": 3
                      },
                      {
                        "bin_start": 0.3115,
                        "bin_end": 0.37139999999999995,
                        "count": 8
                      },
                      {
                        "bin_start": 0.37139999999999995,
                        "bin_end": 0.43129999999999996,
                        "count": 10
                      },
                      {
                        "bin_start": 0.43129999999999996,
                        "bin_end": 0.49119999999999997,
                        "count": 2
                      },
                      {
                        "bin_start": 0.49119999999999997,
                        "bin_end": 0.5510999999999999,
                        "count": 0
                      },
                      {
                        "bin_start": 0.5510999999999999,
                        "bin_end": 0.611,
                        "count": 2
                      }
                    ]
                  }
                },
                {
                  "name": "free sulfur dioxide",
                  "dtype": "float64",
                  "stats": {
                    "unique_count": 60,
                    "nan_count": 0,
                    "min": 1,
                    "max": 72,
                    "histogram": [
                      {
                        "bin_start": 1,
                        "bin_end": 8.1,
                        "count": 464
                      },
                      {
                        "bin_start": 8.1,
                        "bin_end": 15.2,
                        "count": 460
                      },
                      {
                        "bin_start": 15.2,
                        "bin_end": 22.299999999999997,
                        "count": 299
                      },
                      {
                        "bin_start": 22.299999999999997,
                        "bin_end": 29.4,
                        "count": 197
                      },
                      {
                        "bin_start": 29.4,
                        "bin_end": 36.5,
                        "count": 113
                      },
                      {
                        "bin_start": 36.5,
                        "bin_end": 43.599999999999994,
                        "count": 39
                      },
                      {
                        "bin_start": 43.599999999999994,
                        "bin_end": 50.699999999999996,
                        "count": 11
                      },
                      {
                        "bin_start": 50.699999999999996,
                        "bin_end": 57.8,
                        "count": 12
                      },
                      {
                        "bin_start": 57.8,
                        "bin_end": 64.9,
                        "count": 0
                      },
                      {
                        "bin_start": 64.9,
                        "bin_end": 72,
                        "count": 4
                      }
                    ]
                  }
                },
                {
                  "name": "total sulfur dioxide",
                  "dtype": "float64",
                  "stats": {
                    "unique_count": 144,
                    "nan_count": 0,
                    "min": 6,
                    "max": 289,
                    "histogram": [
                      {
                        "bin_start": 6,
                        "bin_end": 34.3,
                        "count": 730
                      },
                      {
                        "bin_start": 34.3,
                        "bin_end": 62.6,
                        "count": 471
                      },
                      {
                        "bin_start": 62.6,
                        "bin_end": 90.9,
                        "count": 221
                      },
                      {
                        "bin_start": 90.9,
                        "bin_end": 119.2,
                        "count": 113
                      },
                      {
                        "bin_start": 119.2,
                        "bin_end": 147.5,
                        "count": 52
                      },
                      {
                        "bin_start": 147.5,
                        "bin_end": 175.8,
                        "count": 10
                      },
                      {
                        "bin_start": 175.8,
                        "bin_end": 204.1,
                        "count": 0
                      },
                      {
                        "bin_start": 204.1,
                        "bin_end": 232.4,
                        "count": 0
                      },
                      {
                        "bin_start": 232.4,
                        "bin_end": 260.70000000000005,
                        "count": 0
                      },
                      {
                        "bin_start": 260.70000000000005,
                        "bin_end": 289,
                        "count": 2
                      }
                    ]
                  }
                },
                {
                  "name": "density",
                  "dtype": "float64",
                  "stats": {
                    "unique_count": 436,
                    "nan_count": 0,
                    "min": 0.99007,
                    "max": 1.00369,
                    "histogram": [
                      {
                        "bin_start": 0.99007,
                        "bin_end": 0.991432,
                        "count": 8
                      },
                      {
                        "bin_start": 0.991432,
                        "bin_end": 0.992794,
                        "count": 27
                      },
                      {
                        "bin_start": 0.992794,
                        "bin_end": 0.994156,
                        "count": 90
                      },
                      {
                        "bin_start": 0.994156,
                        "bin_end": 0.995518,
                        "count": 250
                      },
                      {
                        "bin_start": 0.995518,
                        "bin_end": 0.99688,
                        "count": 485
                      },
                      {
                        "bin_start": 0.99688,
                        "bin_end": 0.998242,
                        "count": 450
                      },
                      {
                        "bin_start": 0.998242,
                        "bin_end": 0.9996039999999999,
                        "count": 185
                      },
                      {
                        "bin_start": 0.9996039999999999,
                        "bin_end": 1.000966,
                        "count": 74
                      },
                      {
                        "bin_start": 1.000966,
                        "bin_end": 1.0023279999999999,
                        "count": 19
                      },
                      {
                        "bin_start": 1.0023279999999999,
                        "bin_end": 1.00369,
                        "count": 11
                      }
                    ]
                  }
                },
                {
                  "name": "pH",
                  "dtype": "float64",
                  "stats": {
                    "unique_count": 89,
                    "nan_count": 0,
                    "min": 2.74,
                    "max": 4.01,
                    "histogram": [
                      {
                        "bin_start": 2.74,
                        "bin_end": 2.867,
                        "count": 2
                      },
                      {
                        "bin_start": 2.867,
                        "bin_end": 2.994,
                        "count": 27
                      },
                      {
                        "bin_start": 2.994,
                        "bin_end": 3.121,
                        "count": 134
                      },
                      {
                        "bin_start": 3.121,
                        "bin_end": 3.248,
                        "count": 361
                      },
                      {
                        "bin_start": 3.248,
                        "bin_end": 3.375,
                        "count": 555
                      },
                      {
                        "bin_start": 3.375,
                        "bin_end": 3.502,
                        "count": 352
                      },
                      {
                        "bin_start": 3.502,
                        "bin_end": 3.6289999999999996,
                        "count": 132
                      },
                      {
                        "bin_start": 3.6289999999999996,
                        "bin_end": 3.756,
                        "count": 29
                      },
                      {
                        "bin_start": 3.756,
                        "bin_end": 3.883,
                        "count": 3
                      },
                      {
                        "bin_start": 3.883,
                        "bin_end": 4.01,
                        "count": 4
                      }
                    ]
                  }
                },
                {
                  "name": "sulphates",
                  "dtype": "float64",
                  "stats": {
                    "unique_count": 96,
                    "nan_count": 0,
                    "min": 0.33,
                    "max": 2,
                    "histogram": [
                      {
                        "bin_start": 0.33,
                        "bin_end": 0.497,
                        "count": 151
                      },
                      {
                        "bin_start": 0.497,
                        "bin_end": 0.6639999999999999,
                        "count": 855
                      },
                      {
                        "bin_start": 0.6639999999999999,
                        "bin_end": 0.831,
                        "count": 416
                      },
                      {
                        "bin_start": 0.831,
                        "bin_end": 0.998,
                        "count": 118
                      },
                      {
                        "bin_start": 0.998,
                        "bin_end": 1.165,
                        "count": 32
                      },
                      {
                        "bin_start": 1.165,
                        "bin_end": 1.3319999999999999,
                        "count": 15
                      },
                      {
                        "bin_start": 1.3319999999999999,
                        "bin_end": 1.4989999999999999,
                        "count": 4
                      },
                      {
                        "bin_start": 1.4989999999999999,
                        "bin_end": 1.666,
                        "count": 4
                      },
                      {
                        "bin_start": 1.666,
                        "bin_end": 1.833,
                        "count": 0
                      },
                      {
                        "bin_start": 1.833,
                        "bin_end": 2,
                        "count": 4
                      }
                    ]
                  }
                },
                {
                  "name": "alcohol",
                  "dtype": "float64",
                  "stats": {
                    "unique_count": 65,
                    "nan_count": 0,
                    "min": 8.4,
                    "max": 14.9,
                    "histogram": [
                      {
                        "bin_start": 8.4,
                        "bin_end": 9.05,
                        "count": 37
                      },
                      {
                        "bin_start": 9.05,
                        "bin_end": 9.700000000000001,
                        "count": 515
                      },
                      {
                        "bin_start": 9.700000000000001,
                        "bin_end": 10.350000000000001,
                        "count": 323
                      },
                      {
                        "bin_start": 10.350000000000001,
                        "bin_end": 11,
                        "count": 257
                      },
                      {
                        "bin_start": 11,
                        "bin_end": 11.65,
                        "count": 232
                      },
                      {
                        "bin_start": 11.65,
                        "bin_end": 12.3,
                        "count": 119
                      },
                      {
                        "bin_start": 12.3,
                        "bin_end": 12.95,
                        "count": 87
                      },
                      {
                        "bin_start": 12.95,
                        "bin_end": 13.600000000000001,
                        "count": 21
                      },
                      {
                        "bin_start": 13.600000000000001,
                        "bin_end": 14.25,
                        "count": 7
                      },
                      {
                        "bin_start": 14.25,
                        "bin_end": 14.9,
                        "count": 1
                      }
                    ]
                  }
                },
                {
                  "name": "quality",
                  "dtype": "int64",
                  "stats": {
                    "unique_count": 6,
                    "nan_count": 0,
                    "min": 3,
                    "max": 8,
                    "histogram": [
                      {
                        "bin_start": 3,
                        "bin_end": 3.5,
                        "count": 10
                      },
                      {
                        "bin_start": 3.5,
                        "bin_end": 4,
                        "count": 0
                      },
                      {
                        "bin_start": 4,
                        "bin_end": 4.5,
                        "count": 53
                      },
                      {
                        "bin_start": 4.5,
                        "bin_end": 5,
                        "count": 0
                      },
                      {
                        "bin_start": 5,
                        "bin_end": 5.5,
                        "count": 681
                      },
                      {
                        "bin_start": 5.5,
                        "bin_end": 6,
                        "count": 0
                      },
                      {
                        "bin_start": 6,
                        "bin_end": 6.5,
                        "count": 638
                      },
                      {
                        "bin_start": 6.5,
                        "bin_end": 7,
                        "count": 0
                      },
                      {
                        "bin_start": 7,
                        "bin_end": 7.5,
                        "count": 199
                      },
                      {
                        "bin_start": 7.5,
                        "bin_end": 8,
                        "count": 18
                      }
                    ]
                  }
                },
                {
                  "name": "_deepnote_index_column",
                  "dtype": "int64"
                }
              ],
              "rows_top": [
                {
                  "fixed acidity": 7.4,
                  "volatile acidity": 0.7,
                  "citric acid": 0,
                  "residual sugar": 1.9,
                  "chlorides": 0.076,
                  "free sulfur dioxide": 11,
                  "total sulfur dioxide": 34,
                  "density": 0.9978,
                  "pH": 3.51,
                  "sulphates": 0.56,
                  "alcohol": 9.4,
                  "quality": 5,
                  "_deepnote_index_column": 0
                },
                {
                  "fixed acidity": 7.8,
                  "volatile acidity": 0.88,
                  "citric acid": 0,
                  "residual sugar": 2.6,
                  "chlorides": 0.098,
                  "free sulfur dioxide": 25,
                  "total sulfur dioxide": 67,
                  "density": 0.9968,
                  "pH": 3.2,
                  "sulphates": 0.68,
                  "alcohol": 9.8,
                  "quality": 5,
                  "_deepnote_index_column": 1
                },
                {
                  "fixed acidity": 7.8,
                  "volatile acidity": 0.76,
                  "citric acid": 0.04,
                  "residual sugar": 2.3,
                  "chlorides": 0.092,
                  "free sulfur dioxide": 15,
                  "total sulfur dioxide": 54,
                  "density": 0.997,
                  "pH": 3.26,
                  "sulphates": 0.65,
                  "alcohol": 9.8,
                  "quality": 5,
                  "_deepnote_index_column": 2
                },
                {
                  "fixed acidity": 11.2,
                  "volatile acidity": 0.28,
                  "citric acid": 0.56,
                  "residual sugar": 1.9,
                  "chlorides": 0.075,
                  "free sulfur dioxide": 17,
                  "total sulfur dioxide": 60,
                  "density": 0.998,
                  "pH": 3.16,
                  "sulphates": 0.58,
                  "alcohol": 9.8,
                  "quality": 6,
                  "_deepnote_index_column": 3
                },
                {
                  "fixed acidity": 7.4,
                  "volatile acidity": 0.7,
                  "citric acid": 0,
                  "residual sugar": 1.9,
                  "chlorides": 0.076,
                  "free sulfur dioxide": 11,
                  "total sulfur dioxide": 34,
                  "density": 0.9978,
                  "pH": 3.51,
                  "sulphates": 0.56,
                  "alcohol": 9.4,
                  "quality": 5,
                  "_deepnote_index_column": 4
                },
                {
                  "fixed acidity": 7.4,
                  "volatile acidity": 0.66,
                  "citric acid": 0,
                  "residual sugar": 1.8,
                  "chlorides": 0.075,
                  "free sulfur dioxide": 13,
                  "total sulfur dioxide": 40,
                  "density": 0.9978,
                  "pH": 3.51,
                  "sulphates": 0.56,
                  "alcohol": 9.4,
                  "quality": 5,
                  "_deepnote_index_column": 5
                },
                {
                  "fixed acidity": 7.9,
                  "volatile acidity": 0.6,
                  "citric acid": 0.06,
                  "residual sugar": 1.6,
                  "chlorides": 0.069,
                  "free sulfur dioxide": 15,
                  "total sulfur dioxide": 59,
                  "density": 0.9964,
                  "pH": 3.3,
                  "sulphates": 0.46,
                  "alcohol": 9.4,
                  "quality": 5,
                  "_deepnote_index_column": 6
                },
                {
                  "fixed acidity": 7.3,
                  "volatile acidity": 0.65,
                  "citric acid": 0,
                  "residual sugar": 1.2,
                  "chlorides": 0.065,
                  "free sulfur dioxide": 15,
                  "total sulfur dioxide": 21,
                  "density": 0.9946,
                  "pH": 3.39,
                  "sulphates": 0.47,
                  "alcohol": 10,
                  "quality": 7,
                  "_deepnote_index_column": 7
                },
                {
                  "fixed acidity": 7.8,
                  "volatile acidity": 0.58,
                  "citric acid": 0.02,
                  "residual sugar": 2,
                  "chlorides": 0.073,
                  "free sulfur dioxide": 9,
                  "total sulfur dioxide": 18,
                  "density": 0.9968,
                  "pH": 3.36,
                  "sulphates": 0.57,
                  "alcohol": 9.5,
                  "quality": 7,
                  "_deepnote_index_column": 8
                },
                {
                  "fixed acidity": 7.5,
                  "volatile acidity": 0.5,
                  "citric acid": 0.36,
                  "residual sugar": 6.1,
                  "chlorides": 0.071,
                  "free sulfur dioxide": 17,
                  "total sulfur dioxide": 102,
                  "density": 0.9978,
                  "pH": 3.35,
                  "sulphates": 0.8,
                  "alcohol": 10.5,
                  "quality": 5,
                  "_deepnote_index_column": 9
                },
                {
                  "fixed acidity": 6.7,
                  "volatile acidity": 0.58,
                  "citric acid": 0.08,
                  "residual sugar": 1.8,
                  "chlorides": 0.0969999999999999,
                  "free sulfur dioxide": 15,
                  "total sulfur dioxide": 65,
                  "density": 0.9959,
                  "pH": 3.28,
                  "sulphates": 0.54,
                  "alcohol": 9.2,
                  "quality": 5,
                  "_deepnote_index_column": 10
                },
                {
                  "fixed acidity": 7.5,
                  "volatile acidity": 0.5,
                  "citric acid": 0.36,
                  "residual sugar": 6.1,
                  "chlorides": 0.071,
                  "free sulfur dioxide": 17,
                  "total sulfur dioxide": 102,
                  "density": 0.9978,
                  "pH": 3.35,
                  "sulphates": 0.8,
                  "alcohol": 10.5,
                  "quality": 5,
                  "_deepnote_index_column": 11
                },
                {
                  "fixed acidity": 5.6,
                  "volatile acidity": 0.615,
                  "citric acid": 0,
                  "residual sugar": 1.6,
                  "chlorides": 0.089,
                  "free sulfur dioxide": 16,
                  "total sulfur dioxide": 59,
                  "density": 0.9943,
                  "pH": 3.58,
                  "sulphates": 0.52,
                  "alcohol": 9.9,
                  "quality": 5,
                  "_deepnote_index_column": 12
                },
                {
                  "fixed acidity": 7.8,
                  "volatile acidity": 0.61,
                  "citric acid": 0.29,
                  "residual sugar": 1.6,
                  "chlorides": 0.114,
                  "free sulfur dioxide": 9,
                  "total sulfur dioxide": 29,
                  "density": 0.9974,
                  "pH": 3.26,
                  "sulphates": 1.56,
                  "alcohol": 9.1,
                  "quality": 5,
                  "_deepnote_index_column": 13
                },
                {
                  "fixed acidity": 8.9,
                  "volatile acidity": 0.62,
                  "citric acid": 0.18,
                  "residual sugar": 3.8,
                  "chlorides": 0.176,
                  "free sulfur dioxide": 52,
                  "total sulfur dioxide": 145,
                  "density": 0.9986,
                  "pH": 3.16,
                  "sulphates": 0.88,
                  "alcohol": 9.2,
                  "quality": 5,
                  "_deepnote_index_column": 14
                },
                {
                  "fixed acidity": 8.9,
                  "volatile acidity": 0.62,
                  "citric acid": 0.19,
                  "residual sugar": 3.9,
                  "chlorides": 0.17,
                  "free sulfur dioxide": 51,
                  "total sulfur dioxide": 148,
                  "density": 0.9986,
                  "pH": 3.17,
                  "sulphates": 0.93,
                  "alcohol": 9.2,
                  "quality": 5,
                  "_deepnote_index_column": 15
                },
                {
                  "fixed acidity": 8.5,
                  "volatile acidity": 0.28,
                  "citric acid": 0.56,
                  "residual sugar": 1.8,
                  "chlorides": 0.092,
                  "free sulfur dioxide": 35,
                  "total sulfur dioxide": 103,
                  "density": 0.9969,
                  "pH": 3.3,
                  "sulphates": 0.75,
                  "alcohol": 10.5,
                  "quality": 7,
                  "_deepnote_index_column": 16
                },
                {
                  "fixed acidity": 8.1,
                  "volatile acidity": 0.56,
                  "citric acid": 0.28,
                  "residual sugar": 1.7,
                  "chlorides": 0.368,
                  "free sulfur dioxide": 16,
                  "total sulfur dioxide": 56,
                  "density": 0.9968,
                  "pH": 3.11,
                  "sulphates": 1.28,
                  "alcohol": 9.3,
                  "quality": 5,
                  "_deepnote_index_column": 17
                },
                {
                  "fixed acidity": 7.4,
                  "volatile acidity": 0.59,
                  "citric acid": 0.08,
                  "residual sugar": 4.4,
                  "chlorides": 0.086,
                  "free sulfur dioxide": 6,
                  "total sulfur dioxide": 29,
                  "density": 0.9974,
                  "pH": 3.38,
                  "sulphates": 0.5,
                  "alcohol": 9,
                  "quality": 4,
                  "_deepnote_index_column": 18
                },
                {
                  "fixed acidity": 7.9,
                  "volatile acidity": 0.32,
                  "citric acid": 0.51,
                  "residual sugar": 1.8,
                  "chlorides": 0.341,
                  "free sulfur dioxide": 17,
                  "total sulfur dioxide": 56,
                  "density": 0.9969,
                  "pH": 3.04,
                  "sulphates": 1.08,
                  "alcohol": 9.2,
                  "quality": 6,
                  "_deepnote_index_column": 19
                },
                {
                  "fixed acidity": 8.9,
                  "volatile acidity": 0.22,
                  "citric acid": 0.48,
                  "residual sugar": 1.8,
                  "chlorides": 0.077,
                  "free sulfur dioxide": 29,
                  "total sulfur dioxide": 60,
                  "density": 0.9968,
                  "pH": 3.39,
                  "sulphates": 0.53,
                  "alcohol": 9.4,
                  "quality": 6,
                  "_deepnote_index_column": 20
                },
                {
                  "fixed acidity": 7.6,
                  "volatile acidity": 0.39,
                  "citric acid": 0.31,
                  "residual sugar": 2.3,
                  "chlorides": 0.0819999999999999,
                  "free sulfur dioxide": 23,
                  "total sulfur dioxide": 71,
                  "density": 0.9982,
                  "pH": 3.52,
                  "sulphates": 0.65,
                  "alcohol": 9.7,
                  "quality": 5,
                  "_deepnote_index_column": 21
                },
                {
                  "fixed acidity": 7.9,
                  "volatile acidity": 0.43,
                  "citric acid": 0.21,
                  "residual sugar": 1.6,
                  "chlorides": 0.106,
                  "free sulfur dioxide": 10,
                  "total sulfur dioxide": 37,
                  "density": 0.9966,
                  "pH": 3.17,
                  "sulphates": 0.91,
                  "alcohol": 9.5,
                  "quality": 5,
                  "_deepnote_index_column": 22
                },
                {
                  "fixed acidity": 8.5,
                  "volatile acidity": 0.49,
                  "citric acid": 0.11,
                  "residual sugar": 2.3,
                  "chlorides": 0.084,
                  "free sulfur dioxide": 9,
                  "total sulfur dioxide": 67,
                  "density": 0.9968,
                  "pH": 3.17,
                  "sulphates": 0.53,
                  "alcohol": 9.4,
                  "quality": 5,
                  "_deepnote_index_column": 23
                },
                {
                  "fixed acidity": 6.9,
                  "volatile acidity": 0.4,
                  "citric acid": 0.14,
                  "residual sugar": 2.4,
                  "chlorides": 0.085,
                  "free sulfur dioxide": 21,
                  "total sulfur dioxide": 40,
                  "density": 0.9968,
                  "pH": 3.43,
                  "sulphates": 0.63,
                  "alcohol": 9.7,
                  "quality": 6,
                  "_deepnote_index_column": 24
                },
                {
                  "fixed acidity": 6.3,
                  "volatile acidity": 0.39,
                  "citric acid": 0.16,
                  "residual sugar": 1.4,
                  "chlorides": 0.08,
                  "free sulfur dioxide": 11,
                  "total sulfur dioxide": 23,
                  "density": 0.9955,
                  "pH": 3.34,
                  "sulphates": 0.56,
                  "alcohol": 9.3,
                  "quality": 5,
                  "_deepnote_index_column": 25
                },
                {
                  "fixed acidity": 7.6,
                  "volatile acidity": 0.41,
                  "citric acid": 0.24,
                  "residual sugar": 1.8,
                  "chlorides": 0.08,
                  "free sulfur dioxide": 4,
                  "total sulfur dioxide": 11,
                  "density": 0.9962,
                  "pH": 3.28,
                  "sulphates": 0.59,
                  "alcohol": 9.5,
                  "quality": 5,
                  "_deepnote_index_column": 26
                },
                {
                  "fixed acidity": 7.9,
                  "volatile acidity": 0.43,
                  "citric acid": 0.21,
                  "residual sugar": 1.6,
                  "chlorides": 0.106,
                  "free sulfur dioxide": 10,
                  "total sulfur dioxide": 37,
                  "density": 0.9966,
                  "pH": 3.17,
                  "sulphates": 0.91,
                  "alcohol": 9.5,
                  "quality": 5,
                  "_deepnote_index_column": 27
                },
                {
                  "fixed acidity": 7.1,
                  "volatile acidity": 0.71,
                  "citric acid": 0,
                  "residual sugar": 1.9,
                  "chlorides": 0.08,
                  "free sulfur dioxide": 14,
                  "total sulfur dioxide": 35,
                  "density": 0.9972,
                  "pH": 3.47,
                  "sulphates": 0.55,
                  "alcohol": 9.4,
                  "quality": 5,
                  "_deepnote_index_column": 28
                },
                {
                  "fixed acidity": 7.8,
                  "volatile acidity": 0.645,
                  "citric acid": 0,
                  "residual sugar": 2,
                  "chlorides": 0.0819999999999999,
                  "free sulfur dioxide": 8,
                  "total sulfur dioxide": 16,
                  "density": 0.9964,
                  "pH": 3.38,
                  "sulphates": 0.59,
                  "alcohol": 9.8,
                  "quality": 6,
                  "_deepnote_index_column": 29
                },
                {
                  "fixed acidity": 6.7,
                  "volatile acidity": 0.675,
                  "citric acid": 0.07,
                  "residual sugar": 2.4,
                  "chlorides": 0.089,
                  "free sulfur dioxide": 17,
                  "total sulfur dioxide": 82,
                  "density": 0.9958,
                  "pH": 3.35,
                  "sulphates": 0.54,
                  "alcohol": 10.1,
                  "quality": 5,
                  "_deepnote_index_column": 30
                },
                {
                  "fixed acidity": 6.9,
                  "volatile acidity": 0.685,
                  "citric acid": 0,
                  "residual sugar": 2.5,
                  "chlorides": 0.105,
                  "free sulfur dioxide": 22,
                  "total sulfur dioxide": 37,
                  "density": 0.9966,
                  "pH": 3.46,
                  "sulphates": 0.57,
                  "alcohol": 10.6,
                  "quality": 6,
                  "_deepnote_index_column": 31
                },
                {
                  "fixed acidity": 8.3,
                  "volatile acidity": 0.655,
                  "citric acid": 0.12,
                  "residual sugar": 2.3,
                  "chlorides": 0.083,
                  "free sulfur dioxide": 15,
                  "total sulfur dioxide": 113,
                  "density": 0.9966,
                  "pH": 3.17,
                  "sulphates": 0.66,
                  "alcohol": 9.8,
                  "quality": 5,
                  "_deepnote_index_column": 32
                },
                {
                  "fixed acidity": 6.9,
                  "volatile acidity": 0.605,
                  "citric acid": 0.12,
                  "residual sugar": 10.7,
                  "chlorides": 0.073,
                  "free sulfur dioxide": 40,
                  "total sulfur dioxide": 83,
                  "density": 0.9993,
                  "pH": 3.45,
                  "sulphates": 0.52,
                  "alcohol": 9.4,
                  "quality": 6,
                  "_deepnote_index_column": 33
                },
                {
                  "fixed acidity": 5.2,
                  "volatile acidity": 0.32,
                  "citric acid": 0.25,
                  "residual sugar": 1.8,
                  "chlorides": 0.103,
                  "free sulfur dioxide": 13,
                  "total sulfur dioxide": 50,
                  "density": 0.9957,
                  "pH": 3.38,
                  "sulphates": 0.55,
                  "alcohol": 9.2,
                  "quality": 5,
                  "_deepnote_index_column": 34
                },
                {
                  "fixed acidity": 7.8,
                  "volatile acidity": 0.645,
                  "citric acid": 0,
                  "residual sugar": 5.5,
                  "chlorides": 0.086,
                  "free sulfur dioxide": 5,
                  "total sulfur dioxide": 18,
                  "density": 0.9986,
                  "pH": 3.4,
                  "sulphates": 0.55,
                  "alcohol": 9.6,
                  "quality": 6,
                  "_deepnote_index_column": 35
                },
                {
                  "fixed acidity": 7.8,
                  "volatile acidity": 0.6,
                  "citric acid": 0.14,
                  "residual sugar": 2.4,
                  "chlorides": 0.086,
                  "free sulfur dioxide": 3,
                  "total sulfur dioxide": 15,
                  "density": 0.9975,
                  "pH": 3.42,
                  "sulphates": 0.6,
                  "alcohol": 10.8,
                  "quality": 6,
                  "_deepnote_index_column": 36
                },
                {
                  "fixed acidity": 8.1,
                  "volatile acidity": 0.38,
                  "citric acid": 0.28,
                  "residual sugar": 2.1,
                  "chlorides": 0.066,
                  "free sulfur dioxide": 13,
                  "total sulfur dioxide": 30,
                  "density": 0.9968,
                  "pH": 3.23,
                  "sulphates": 0.73,
                  "alcohol": 9.7,
                  "quality": 7,
                  "_deepnote_index_column": 37
                },
                {
                  "fixed acidity": 5.7,
                  "volatile acidity": 1.13,
                  "citric acid": 0.09,
                  "residual sugar": 1.5,
                  "chlorides": 0.172,
                  "free sulfur dioxide": 7,
                  "total sulfur dioxide": 19,
                  "density": 0.994,
                  "pH": 3.5,
                  "sulphates": 0.48,
                  "alcohol": 9.8,
                  "quality": 4,
                  "_deepnote_index_column": 38
                },
                {
                  "fixed acidity": 7.3,
                  "volatile acidity": 0.45,
                  "citric acid": 0.36,
                  "residual sugar": 5.9,
                  "chlorides": 0.074,
                  "free sulfur dioxide": 12,
                  "total sulfur dioxide": 87,
                  "density": 0.9978,
                  "pH": 3.33,
                  "sulphates": 0.83,
                  "alcohol": 10.5,
                  "quality": 5,
                  "_deepnote_index_column": 39
                },
                {
                  "fixed acidity": 7.3,
                  "volatile acidity": 0.45,
                  "citric acid": 0.36,
                  "residual sugar": 5.9,
                  "chlorides": 0.074,
                  "free sulfur dioxide": 12,
                  "total sulfur dioxide": 87,
                  "density": 0.9978,
                  "pH": 3.33,
                  "sulphates": 0.83,
                  "alcohol": 10.5,
                  "quality": 5,
                  "_deepnote_index_column": 40
                }
              ],
              "rows_bottom": [
                {
                  "fixed acidity": 6.6,
                  "volatile acidity": 0.855,
                  "citric acid": 0.02,
                  "residual sugar": 2.4,
                  "chlorides": 0.062,
                  "free sulfur dioxide": 15,
                  "total sulfur dioxide": 23,
                  "density": 0.99627,
                  "pH": 3.54,
                  "sulphates": 0.6,
                  "alcohol": 11,
                  "quality": 6,
                  "_deepnote_index_column": 1557
                },
                {
                  "fixed acidity": 6.9,
                  "volatile acidity": 0.63,
                  "citric acid": 0.33,
                  "residual sugar": 6.7,
                  "chlorides": 0.235,
                  "free sulfur dioxide": 66,
                  "total sulfur dioxide": 115,
                  "density": 0.99787,
                  "pH": 3.22,
                  "sulphates": 0.56,
                  "alcohol": 9.5,
                  "quality": 5,
                  "_deepnote_index_column": 1558
                },
                {
                  "fixed acidity": 7.8,
                  "volatile acidity": 0.6,
                  "citric acid": 0.26,
                  "residual sugar": 2,
                  "chlorides": 0.08,
                  "free sulfur dioxide": 31,
                  "total sulfur dioxide": 131,
                  "density": 0.99622,
                  "pH": 3.21,
                  "sulphates": 0.52,
                  "alcohol": 9.9,
                  "quality": 5,
                  "_deepnote_index_column": 1559
                },
                {
                  "fixed acidity": 7.8,
                  "volatile acidity": 0.6,
                  "citric acid": 0.26,
                  "residual sugar": 2,
                  "chlorides": 0.08,
                  "free sulfur dioxide": 31,
                  "total sulfur dioxide": 131,
                  "density": 0.99622,
                  "pH": 3.21,
                  "sulphates": 0.52,
                  "alcohol": 9.9,
                  "quality": 5,
                  "_deepnote_index_column": 1560
                },
                {
                  "fixed acidity": 7.8,
                  "volatile acidity": 0.6,
                  "citric acid": 0.26,
                  "residual sugar": 2,
                  "chlorides": 0.08,
                  "free sulfur dioxide": 31,
                  "total sulfur dioxide": 131,
                  "density": 0.99622,
                  "pH": 3.21,
                  "sulphates": 0.52,
                  "alcohol": 9.9,
                  "quality": 5,
                  "_deepnote_index_column": 1561
                },
                {
                  "fixed acidity": 7.2,
                  "volatile acidity": 0.695,
                  "citric acid": 0.13,
                  "residual sugar": 2,
                  "chlorides": 0.076,
                  "free sulfur dioxide": 12,
                  "total sulfur dioxide": 20,
                  "density": 0.99546,
                  "pH": 3.29,
                  "sulphates": 0.54,
                  "alcohol": 10.1,
                  "quality": 5,
                  "_deepnote_index_column": 1562
                },
                {
                  "fixed acidity": 7.2,
                  "volatile acidity": 0.695,
                  "citric acid": 0.13,
                  "residual sugar": 2,
                  "chlorides": 0.076,
                  "free sulfur dioxide": 12,
                  "total sulfur dioxide": 20,
                  "density": 0.99546,
                  "pH": 3.29,
                  "sulphates": 0.54,
                  "alcohol": 10.1,
                  "quality": 5,
                  "_deepnote_index_column": 1563
                },
                {
                  "fixed acidity": 7.2,
                  "volatile acidity": 0.695,
                  "citric acid": 0.13,
                  "residual sugar": 2,
                  "chlorides": 0.076,
                  "free sulfur dioxide": 12,
                  "total sulfur dioxide": 20,
                  "density": 0.99546,
                  "pH": 3.29,
                  "sulphates": 0.54,
                  "alcohol": 10.1,
                  "quality": 5,
                  "_deepnote_index_column": 1564
                },
                {
                  "fixed acidity": 6.7,
                  "volatile acidity": 0.67,
                  "citric acid": 0.02,
                  "residual sugar": 1.9,
                  "chlorides": 0.061,
                  "free sulfur dioxide": 26,
                  "total sulfur dioxide": 42,
                  "density": 0.99489,
                  "pH": 3.39,
                  "sulphates": 0.82,
                  "alcohol": 10.9,
                  "quality": 6,
                  "_deepnote_index_column": 1565
                },
                {
                  "fixed acidity": 6.7,
                  "volatile acidity": 0.16,
                  "citric acid": 0.64,
                  "residual sugar": 2.1,
                  "chlorides": 0.059,
                  "free sulfur dioxide": 24,
                  "total sulfur dioxide": 52,
                  "density": 0.99494,
                  "pH": 3.34,
                  "sulphates": 0.71,
                  "alcohol": 11.2,
                  "quality": 6,
                  "_deepnote_index_column": 1566
                },
                {
                  "fixed acidity": 7.2,
                  "volatile acidity": 0.695,
                  "citric acid": 0.13,
                  "residual sugar": 2,
                  "chlorides": 0.076,
                  "free sulfur dioxide": 12,
                  "total sulfur dioxide": 20,
                  "density": 0.99546,
                  "pH": 3.29,
                  "sulphates": 0.54,
                  "alcohol": 10.1,
                  "quality": 5,
                  "_deepnote_index_column": 1567
                },
                {
                  "fixed acidity": 7,
                  "volatile acidity": 0.56,
                  "citric acid": 0.13,
                  "residual sugar": 1.6,
                  "chlorides": 0.077,
                  "free sulfur dioxide": 25,
                  "total sulfur dioxide": 42,
                  "density": 0.99629,
                  "pH": 3.34,
                  "sulphates": 0.59,
                  "alcohol": 9.2,
                  "quality": 5,
                  "_deepnote_index_column": 1568
                },
                {
                  "fixed acidity": 6.2,
                  "volatile acidity": 0.51,
                  "citric acid": 0.14,
                  "residual sugar": 1.9,
                  "chlorides": 0.0559999999999999,
                  "free sulfur dioxide": 15,
                  "total sulfur dioxide": 34,
                  "density": 0.99396,
                  "pH": 3.48,
                  "sulphates": 0.57,
                  "alcohol": 11.5,
                  "quality": 6,
                  "_deepnote_index_column": 1569
                },
                {
                  "fixed acidity": 6.4,
                  "volatile acidity": 0.36,
                  "citric acid": 0.53,
                  "residual sugar": 2.2,
                  "chlorides": 0.23,
                  "free sulfur dioxide": 19,
                  "total sulfur dioxide": 35,
                  "density": 0.9934,
                  "pH": 3.37,
                  "sulphates": 0.93,
                  "alcohol": 12.4,
                  "quality": 6,
                  "_deepnote_index_column": 1570
                },
                {
                  "fixed acidity": 6.4,
                  "volatile acidity": 0.38,
                  "citric acid": 0.14,
                  "residual sugar": 2.2,
                  "chlorides": 0.038,
                  "free sulfur dioxide": 15,
                  "total sulfur dioxide": 25,
                  "density": 0.99514,
                  "pH": 3.44,
                  "sulphates": 0.65,
                  "alcohol": 11.1,
                  "quality": 6,
                  "_deepnote_index_column": 1571
                },
                {
                  "fixed acidity": 7.3,
                  "volatile acidity": 0.69,
                  "citric acid": 0.32,
                  "residual sugar": 2.2,
                  "chlorides": 0.069,
                  "free sulfur dioxide": 35,
                  "total sulfur dioxide": 104,
                  "density": 0.99632,
                  "pH": 3.33,
                  "sulphates": 0.51,
                  "alcohol": 9.5,
                  "quality": 5,
                  "_deepnote_index_column": 1572
                },
                {
                  "fixed acidity": 6,
                  "volatile acidity": 0.58,
                  "citric acid": 0.2,
                  "residual sugar": 2.4,
                  "chlorides": 0.075,
                  "free sulfur dioxide": 15,
                  "total sulfur dioxide": 50,
                  "density": 0.99467,
                  "pH": 3.58,
                  "sulphates": 0.67,
                  "alcohol": 12.5,
                  "quality": 6,
                  "_deepnote_index_column": 1573
                },
                {
                  "fixed acidity": 5.6,
                  "volatile acidity": 0.31,
                  "citric acid": 0.78,
                  "residual sugar": 13.9,
                  "chlorides": 0.074,
                  "free sulfur dioxide": 23,
                  "total sulfur dioxide": 92,
                  "density": 0.99677,
                  "pH": 3.39,
                  "sulphates": 0.48,
                  "alcohol": 10.5,
                  "quality": 6,
                  "_deepnote_index_column": 1574
                },
                {
                  "fixed acidity": 7.5,
                  "volatile acidity": 0.52,
                  "citric acid": 0.4,
                  "residual sugar": 2.2,
                  "chlorides": 0.06,
                  "free sulfur dioxide": 12,
                  "total sulfur dioxide": 20,
                  "density": 0.99474,
                  "pH": 3.26,
                  "sulphates": 0.64,
                  "alcohol": 11.8,
                  "quality": 6,
                  "_deepnote_index_column": 1575
                },
                {
                  "fixed acidity": 8,
                  "volatile acidity": 0.3,
                  "citric acid": 0.63,
                  "residual sugar": 1.6,
                  "chlorides": 0.081,
                  "free sulfur dioxide": 16,
                  "total sulfur dioxide": 29,
                  "density": 0.99588,
                  "pH": 3.3,
                  "sulphates": 0.78,
                  "alcohol": 10.8,
                  "quality": 6,
                  "_deepnote_index_column": 1576
                },
                {
                  "fixed acidity": 6.2,
                  "volatile acidity": 0.7,
                  "citric acid": 0.15,
                  "residual sugar": 5.1,
                  "chlorides": 0.076,
                  "free sulfur dioxide": 13,
                  "total sulfur dioxide": 27,
                  "density": 0.99622,
                  "pH": 3.54,
                  "sulphates": 0.6,
                  "alcohol": 11.9,
                  "quality": 6,
                  "_deepnote_index_column": 1577
                },
                {
                  "fixed acidity": 6.8,
                  "volatile acidity": 0.67,
                  "citric acid": 0.15,
                  "residual sugar": 1.8,
                  "chlorides": 0.118,
                  "free sulfur dioxide": 13,
                  "total sulfur dioxide": 20,
                  "density": 0.9954,
                  "pH": 3.42,
                  "sulphates": 0.67,
                  "alcohol": 11.3,
                  "quality": 6,
                  "_deepnote_index_column": 1578
                },
                {
                  "fixed acidity": 6.2,
                  "volatile acidity": 0.56,
                  "citric acid": 0.09,
                  "residual sugar": 1.7,
                  "chlorides": 0.053,
                  "free sulfur dioxide": 24,
                  "total sulfur dioxide": 32,
                  "density": 0.99402,
                  "pH": 3.54,
                  "sulphates": 0.6,
                  "alcohol": 11.3,
                  "quality": 5,
                  "_deepnote_index_column": 1579
                },
                {
                  "fixed acidity": 7.4,
                  "volatile acidity": 0.35,
                  "citric acid": 0.33,
                  "residual sugar": 2.4,
                  "chlorides": 0.068,
                  "free sulfur dioxide": 9,
                  "total sulfur dioxide": 26,
                  "density": 0.9947,
                  "pH": 3.36,
                  "sulphates": 0.6,
                  "alcohol": 11.9,
                  "quality": 6,
                  "_deepnote_index_column": 1580
                },
                {
                  "fixed acidity": 6.2,
                  "volatile acidity": 0.56,
                  "citric acid": 0.09,
                  "residual sugar": 1.7,
                  "chlorides": 0.053,
                  "free sulfur dioxide": 24,
                  "total sulfur dioxide": 32,
                  "density": 0.99402,
                  "pH": 3.54,
                  "sulphates": 0.6,
                  "alcohol": 11.3,
                  "quality": 5,
                  "_deepnote_index_column": 1581
                },
                {
                  "fixed acidity": 6.1,
                  "volatile acidity": 0.715,
                  "citric acid": 0.1,
                  "residual sugar": 2.6,
                  "chlorides": 0.053,
                  "free sulfur dioxide": 13,
                  "total sulfur dioxide": 27,
                  "density": 0.99362,
                  "pH": 3.57,
                  "sulphates": 0.5,
                  "alcohol": 11.9,
                  "quality": 5,
                  "_deepnote_index_column": 1582
                },
                {
                  "fixed acidity": 6.2,
                  "volatile acidity": 0.46,
                  "citric acid": 0.29,
                  "residual sugar": 2.1,
                  "chlorides": 0.074,
                  "free sulfur dioxide": 32,
                  "total sulfur dioxide": 98,
                  "density": 0.99578,
                  "pH": 3.33,
                  "sulphates": 0.62,
                  "alcohol": 9.8,
                  "quality": 5,
                  "_deepnote_index_column": 1583
                },
                {
                  "fixed acidity": 6.7,
                  "volatile acidity": 0.32,
                  "citric acid": 0.44,
                  "residual sugar": 2.4,
                  "chlorides": 0.061,
                  "free sulfur dioxide": 24,
                  "total sulfur dioxide": 34,
                  "density": 0.99484,
                  "pH": 3.29,
                  "sulphates": 0.8,
                  "alcohol": 11.6,
                  "quality": 7,
                  "_deepnote_index_column": 1584
                },
                {
                  "fixed acidity": 7.2,
                  "volatile acidity": 0.39,
                  "citric acid": 0.44,
                  "residual sugar": 2.6,
                  "chlorides": 0.066,
                  "free sulfur dioxide": 22,
                  "total sulfur dioxide": 48,
                  "density": 0.99494,
                  "pH": 3.3,
                  "sulphates": 0.84,
                  "alcohol": 11.5,
                  "quality": 6,
                  "_deepnote_index_column": 1585
                },
                {
                  "fixed acidity": 7.5,
                  "volatile acidity": 0.31,
                  "citric acid": 0.41,
                  "residual sugar": 2.4,
                  "chlorides": 0.065,
                  "free sulfur dioxide": 34,
                  "total sulfur dioxide": 60,
                  "density": 0.99492,
                  "pH": 3.34,
                  "sulphates": 0.85,
                  "alcohol": 11.4,
                  "quality": 6,
                  "_deepnote_index_column": 1586
                },
                {
                  "fixed acidity": 5.8,
                  "volatile acidity": 0.61,
                  "citric acid": 0.11,
                  "residual sugar": 1.8,
                  "chlorides": 0.066,
                  "free sulfur dioxide": 18,
                  "total sulfur dioxide": 28,
                  "density": 0.99483,
                  "pH": 3.55,
                  "sulphates": 0.66,
                  "alcohol": 10.9,
                  "quality": 6,
                  "_deepnote_index_column": 1587
                },
                {
                  "fixed acidity": 7.2,
                  "volatile acidity": 0.66,
                  "citric acid": 0.33,
                  "residual sugar": 2.5,
                  "chlorides": 0.068,
                  "free sulfur dioxide": 34,
                  "total sulfur dioxide": 102,
                  "density": 0.99414,
                  "pH": 3.27,
                  "sulphates": 0.78,
                  "alcohol": 12.8,
                  "quality": 6,
                  "_deepnote_index_column": 1588
                },
                {
                  "fixed acidity": 6.6,
                  "volatile acidity": 0.725,
                  "citric acid": 0.2,
                  "residual sugar": 7.8,
                  "chlorides": 0.073,
                  "free sulfur dioxide": 29,
                  "total sulfur dioxide": 79,
                  "density": 0.9977,
                  "pH": 3.29,
                  "sulphates": 0.54,
                  "alcohol": 9.2,
                  "quality": 5,
                  "_deepnote_index_column": 1589
                },
                {
                  "fixed acidity": 6.3,
                  "volatile acidity": 0.55,
                  "citric acid": 0.15,
                  "residual sugar": 1.8,
                  "chlorides": 0.077,
                  "free sulfur dioxide": 26,
                  "total sulfur dioxide": 35,
                  "density": 0.99314,
                  "pH": 3.32,
                  "sulphates": 0.82,
                  "alcohol": 11.6,
                  "quality": 6,
                  "_deepnote_index_column": 1590
                },
                {
                  "fixed acidity": 5.4,
                  "volatile acidity": 0.74,
                  "citric acid": 0.09,
                  "residual sugar": 1.7,
                  "chlorides": 0.089,
                  "free sulfur dioxide": 16,
                  "total sulfur dioxide": 26,
                  "density": 0.99402,
                  "pH": 3.67,
                  "sulphates": 0.56,
                  "alcohol": 11.6,
                  "quality": 6,
                  "_deepnote_index_column": 1591
                },
                {
                  "fixed acidity": 6.3,
                  "volatile acidity": 0.51,
                  "citric acid": 0.13,
                  "residual sugar": 2.3,
                  "chlorides": 0.076,
                  "free sulfur dioxide": 29,
                  "total sulfur dioxide": 40,
                  "density": 0.99574,
                  "pH": 3.42,
                  "sulphates": 0.75,
                  "alcohol": 11,
                  "quality": 6,
                  "_deepnote_index_column": 1592
                },
                {
                  "fixed acidity": 6.8,
                  "volatile acidity": 0.62,
                  "citric acid": 0.08,
                  "residual sugar": 1.9,
                  "chlorides": 0.068,
                  "free sulfur dioxide": 28,
                  "total sulfur dioxide": 38,
                  "density": 0.99651,
                  "pH": 3.42,
                  "sulphates": 0.82,
                  "alcohol": 9.5,
                  "quality": 6,
                  "_deepnote_index_column": 1593
                },
                {
                  "fixed acidity": 6.2,
                  "volatile acidity": 0.6,
                  "citric acid": 0.08,
                  "residual sugar": 2,
                  "chlorides": 0.09,
                  "free sulfur dioxide": 32,
                  "total sulfur dioxide": 44,
                  "density": 0.9949,
                  "pH": 3.45,
                  "sulphates": 0.58,
                  "alcohol": 10.5,
                  "quality": 5,
                  "_deepnote_index_column": 1594
                },
                {
                  "fixed acidity": 5.9,
                  "volatile acidity": 0.55,
                  "citric acid": 0.1,
                  "residual sugar": 2.2,
                  "chlorides": 0.062,
                  "free sulfur dioxide": 39,
                  "total sulfur dioxide": 51,
                  "density": 0.99512,
                  "pH": 3.52,
                  "sulphates": 0.76,
                  "alcohol": 11.2,
                  "quality": 6,
                  "_deepnote_index_column": 1595
                },
                {
                  "fixed acidity": 6.3,
                  "volatile acidity": 0.51,
                  "citric acid": 0.13,
                  "residual sugar": 2.3,
                  "chlorides": 0.076,
                  "free sulfur dioxide": 29,
                  "total sulfur dioxide": 40,
                  "density": 0.99574,
                  "pH": 3.42,
                  "sulphates": 0.75,
                  "alcohol": 11,
                  "quality": 6,
                  "_deepnote_index_column": 1596
                },
                {
                  "fixed acidity": 5.9,
                  "volatile acidity": 0.645,
                  "citric acid": 0.12,
                  "residual sugar": 2,
                  "chlorides": 0.075,
                  "free sulfur dioxide": 32,
                  "total sulfur dioxide": 44,
                  "density": 0.99547,
                  "pH": 3.57,
                  "sulphates": 0.71,
                  "alcohol": 10.2,
                  "quality": 5,
                  "_deepnote_index_column": 1597
                },
                {
                  "fixed acidity": 6,
                  "volatile acidity": 0.31,
                  "citric acid": 0.47,
                  "residual sugar": 3.6,
                  "chlorides": 0.067,
                  "free sulfur dioxide": 18,
                  "total sulfur dioxide": 42,
                  "density": 0.99549,
                  "pH": 3.39,
                  "sulphates": 0.66,
                  "alcohol": 11,
                  "quality": 6,
                  "_deepnote_index_column": 1598
                }
              ]
            },
            "text/plain": "      fixed acidity  volatile acidity  citric acid  residual sugar  chlorides  \\\n0               7.4             0.700         0.00             1.9      0.076   \n1               7.8             0.880         0.00             2.6      0.098   \n2               7.8             0.760         0.04             2.3      0.092   \n3              11.2             0.280         0.56             1.9      0.075   \n4               7.4             0.700         0.00             1.9      0.076   \n...             ...               ...          ...             ...        ...   \n1594            6.2             0.600         0.08             2.0      0.090   \n1595            5.9             0.550         0.10             2.2      0.062   \n1596            6.3             0.510         0.13             2.3      0.076   \n1597            5.9             0.645         0.12             2.0      0.075   \n1598            6.0             0.310         0.47             3.6      0.067   \n\n      free sulfur dioxide  total sulfur dioxide  density    pH  sulphates  \\\n0                    11.0                  34.0  0.99780  3.51       0.56   \n1                    25.0                  67.0  0.99680  3.20       0.68   \n2                    15.0                  54.0  0.99700  3.26       0.65   \n3                    17.0                  60.0  0.99800  3.16       0.58   \n4                    11.0                  34.0  0.99780  3.51       0.56   \n...                   ...                   ...      ...   ...        ...   \n1594                 32.0                  44.0  0.99490  3.45       0.58   \n1595                 39.0                  51.0  0.99512  3.52       0.76   \n1596                 29.0                  40.0  0.99574  3.42       0.75   \n1597                 32.0                  44.0  0.99547  3.57       0.71   \n1598                 18.0                  42.0  0.99549  3.39       0.66   \n\n      alcohol  quality  \n0         9.4        5  \n1         9.8        5  \n2         9.8        5  \n3         9.8        6  \n4         9.4        5  \n...       ...      ...  \n1594     10.5        5  \n1595     11.2        6  \n1596     11.0        6  \n1597     10.2        5  \n1598     11.0        6  \n\n[1599 rows x 12 columns]",
            "text/html": "<div>\n<style scoped>\n    .dataframe tbody tr th:only-of-type {\n        vertical-align: middle;\n    }\n\n    .dataframe tbody tr th {\n        vertical-align: top;\n    }\n\n    .dataframe thead th {\n        text-align: right;\n    }\n</style>\n<table border=\"1\" class=\"dataframe\">\n  <thead>\n    <tr style=\"text-align: right;\">\n      <th></th>\n      <th>fixed acidity</th>\n      <th>volatile acidity</th>\n      <th>citric acid</th>\n      <th>residual sugar</th>\n      <th>chlorides</th>\n      <th>free sulfur dioxide</th>\n      <th>total sulfur dioxide</th>\n      <th>density</th>\n      <th>pH</th>\n      <th>sulphates</th>\n      <th>alcohol</th>\n      <th>quality</th>\n    </tr>\n  </thead>\n  <tbody>\n    <tr>\n      <th>0</th>\n      <td>7.4</td>\n      <td>0.700</td>\n      <td>0.00</td>\n      <td>1.9</td>\n      <td>0.076</td>\n      <td>11.0</td>\n      <td>34.0</td>\n      <td>0.99780</td>\n      <td>3.51</td>\n      <td>0.56</td>\n      <td>9.4</td>\n      <td>5</td>\n    </tr>\n    <tr>\n      <th>1</th>\n      <td>7.8</td>\n      <td>0.880</td>\n      <td>0.00</td>\n      <td>2.6</td>\n      <td>0.098</td>\n      <td>25.0</td>\n      <td>67.0</td>\n      <td>0.99680</td>\n      <td>3.20</td>\n      <td>0.68</td>\n      <td>9.8</td>\n      <td>5</td>\n    </tr>\n    <tr>\n      <th>2</th>\n      <td>7.8</td>\n      <td>0.760</td>\n      <td>0.04</td>\n      <td>2.3</td>\n      <td>0.092</td>\n      <td>15.0</td>\n      <td>54.0</td>\n      <td>0.99700</td>\n      <td>3.26</td>\n      <td>0.65</td>\n      <td>9.8</td>\n      <td>5</td>\n    </tr>\n    <tr>\n      <th>3</th>\n      <td>11.2</td>\n      <td>0.280</td>\n      <td>0.56</td>\n      <td>1.9</td>\n      <td>0.075</td>\n      <td>17.0</td>\n      <td>60.0</td>\n      <td>0.99800</td>\n      <td>3.16</td>\n      <td>0.58</td>\n      <td>9.8</td>\n      <td>6</td>\n    </tr>\n    <tr>\n      <th>4</th>\n      <td>7.4</td>\n      <td>0.700</td>\n      <td>0.00</td>\n      <td>1.9</td>\n      <td>0.076</td>\n      <td>11.0</td>\n      <td>34.0</td>\n      <td>0.99780</td>\n      <td>3.51</td>\n      <td>0.56</td>\n      <td>9.4</td>\n      <td>5</td>\n    </tr>\n    <tr>\n      <th>...</th>\n      <td>...</td>\n      <td>...</td>\n      <td>...</td>\n      <td>...</td>\n      <td>...</td>\n      <td>...</td>\n      <td>...</td>\n      <td>...</td>\n      <td>...</td>\n      <td>...</td>\n      <td>...</td>\n      <td>...</td>\n    </tr>\n    <tr>\n      <th>1594</th>\n      <td>6.2</td>\n      <td>0.600</td>\n      <td>0.08</td>\n      <td>2.0</td>\n      <td>0.090</td>\n      <td>32.0</td>\n      <td>44.0</td>\n      <td>0.99490</td>\n      <td>3.45</td>\n      <td>0.58</td>\n      <td>10.5</td>\n      <td>5</td>\n    </tr>\n    <tr>\n      <th>1595</th>\n      <td>5.9</td>\n      <td>0.550</td>\n      <td>0.10</td>\n      <td>2.2</td>\n      <td>0.062</td>\n      <td>39.0</td>\n      <td>51.0</td>\n      <td>0.99512</td>\n      <td>3.52</td>\n      <td>0.76</td>\n      <td>11.2</td>\n      <td>6</td>\n    </tr>\n    <tr>\n      <th>1596</th>\n      <td>6.3</td>\n      <td>0.510</td>\n      <td>0.13</td>\n      <td>2.3</td>\n      <td>0.076</td>\n      <td>29.0</td>\n      <td>40.0</td>\n      <td>0.99574</td>\n      <td>3.42</td>\n      <td>0.75</td>\n      <td>11.0</td>\n      <td>6</td>\n    </tr>\n    <tr>\n      <th>1597</th>\n      <td>5.9</td>\n      <td>0.645</td>\n      <td>0.12</td>\n      <td>2.0</td>\n      <td>0.075</td>\n      <td>32.0</td>\n      <td>44.0</td>\n      <td>0.99547</td>\n      <td>3.57</td>\n      <td>0.71</td>\n      <td>10.2</td>\n      <td>5</td>\n    </tr>\n    <tr>\n      <th>1598</th>\n      <td>6.0</td>\n      <td>0.310</td>\n      <td>0.47</td>\n      <td>3.6</td>\n      <td>0.067</td>\n      <td>18.0</td>\n      <td>42.0</td>\n      <td>0.99549</td>\n      <td>3.39</td>\n      <td>0.66</td>\n      <td>11.0</td>\n      <td>6</td>\n    </tr>\n  </tbody>\n</table>\n<p>1599 rows × 12 columns</p>\n</div>"
          },
          "metadata": {}
        }
      ],
      "execution_count": null
    },
    {
      "cell_type": "code",
      "metadata": {
        "tags": [],
        "cell_id": "00004-a0d906b2-d436-4421-a17e-6c8f54d2eca2",
        "deepnote_to_be_reexecuted": false,
        "source_hash": "f88152d9",
        "execution_millis": 47,
        "execution_start": 1617124903174,
        "deepnote_cell_type": "code"
      },
      "source": "df.describe()",
      "outputs": [
        {
          "output_type": "execute_result",
          "execution_count": 3,
          "data": {
            "application/vnd.deepnote.dataframe.v2+json": {
              "row_count": 8,
              "column_count": 12,
              "columns": [
                {
                  "name": "fixed acidity",
                  "dtype": "float64",
                  "stats": {
                    "unique_count": 8,
                    "nan_count": 0,
                    "min": 1.7410963181276953,
                    "max": 1599,
                    "histogram": [
                      {
                        "bin_start": 1.7410963181276953,
                        "bin_end": 161.4669866863149,
                        "count": 7
                      },
                      {
                        "bin_start": 161.4669866863149,
                        "bin_end": 321.1928770545021,
                        "count": 0
                      },
                      {
                        "bin_start": 321.1928770545021,
                        "bin_end": 480.9187674226893,
                        "count": 0
                      },
                      {
                        "bin_start": 480.9187674226893,
                        "bin_end": 640.6446577908765,
                        "count": 0
                      },
                      {
                        "bin_start": 640.6446577908765,
                        "bin_end": 800.3705481590638,
                        "count": 0
                      },
                      {
                        "bin_start": 800.3705481590638,
                        "bin_end": 960.0964385272509,
                        "count": 0
                      },
                      {
                        "bin_start": 960.0964385272509,
                        "bin_end": 1119.8223288954382,
                        "count": 0
                      },
                      {
                        "bin_start": 1119.8223288954382,
                        "bin_end": 1279.5482192636255,
                        "count": 0
                      },
                      {
                        "bin_start": 1279.5482192636255,
                        "bin_end": 1439.2741096318127,
                        "count": 0
                      },
                      {
                        "bin_start": 1439.2741096318127,
                        "bin_end": 1599,
                        "count": 1
                      }
                    ]
                  }
                },
                {
                  "name": "volatile acidity",
                  "dtype": "float64",
                  "stats": {
                    "unique_count": 8,
                    "nan_count": 0,
                    "min": 0.12,
                    "max": 1599,
                    "histogram": [
                      {
                        "bin_start": 0.12,
                        "bin_end": 160.008,
                        "count": 7
                      },
                      {
                        "bin_start": 160.008,
                        "bin_end": 319.896,
                        "count": 0
                      },
                      {
                        "bin_start": 319.896,
                        "bin_end": 479.784,
                        "count": 0
                      },
                      {
                        "bin_start": 479.784,
                        "bin_end": 639.672,
                        "count": 0
                      },
                      {
                        "bin_start": 639.672,
                        "bin_end": 799.5600000000001,
                        "count": 0
                      },
                      {
                        "bin_start": 799.5600000000001,
                        "bin_end": 959.448,
                        "count": 0
                      },
                      {
                        "bin_start": 959.448,
                        "bin_end": 1119.336,
                        "count": 0
                      },
                      {
                        "bin_start": 1119.336,
                        "bin_end": 1279.224,
                        "count": 0
                      },
                      {
                        "bin_start": 1279.224,
                        "bin_end": 1439.1119999999999,
                        "count": 0
                      },
                      {
                        "bin_start": 1439.1119999999999,
                        "bin_end": 1599,
                        "count": 1
                      }
                    ]
                  }
                },
                {
                  "name": "citric acid",
                  "dtype": "float64",
                  "stats": {
                    "unique_count": 8,
                    "nan_count": 0,
                    "min": 0,
                    "max": 1599,
                    "histogram": [
                      {
                        "bin_start": 0,
                        "bin_end": 159.9,
                        "count": 7
                      },
                      {
                        "bin_start": 159.9,
                        "bin_end": 319.8,
                        "count": 0
                      },
                      {
                        "bin_start": 319.8,
                        "bin_end": 479.70000000000005,
                        "count": 0
                      },
                      {
                        "bin_start": 479.70000000000005,
                        "bin_end": 639.6,
                        "count": 0
                      },
                      {
                        "bin_start": 639.6,
                        "bin_end": 799.5,
                        "count": 0
                      },
                      {
                        "bin_start": 799.5,
                        "bin_end": 959.4000000000001,
                        "count": 0
                      },
                      {
                        "bin_start": 959.4000000000001,
                        "bin_end": 1119.3,
                        "count": 0
                      },
                      {
                        "bin_start": 1119.3,
                        "bin_end": 1279.2,
                        "count": 0
                      },
                      {
                        "bin_start": 1279.2,
                        "bin_end": 1439.1000000000001,
                        "count": 0
                      },
                      {
                        "bin_start": 1439.1000000000001,
                        "bin_end": 1599,
                        "count": 1
                      }
                    ]
                  }
                },
                {
                  "name": "residual sugar",
                  "dtype": "float64",
                  "stats": {
                    "unique_count": 8,
                    "nan_count": 0,
                    "min": 0.9,
                    "max": 1599,
                    "histogram": [
                      {
                        "bin_start": 0.9,
                        "bin_end": 160.71,
                        "count": 7
                      },
                      {
                        "bin_start": 160.71,
                        "bin_end": 320.52,
                        "count": 0
                      },
                      {
                        "bin_start": 320.52,
                        "bin_end": 480.33,
                        "count": 0
                      },
                      {
                        "bin_start": 480.33,
                        "bin_end": 640.14,
                        "count": 0
                      },
                      {
                        "bin_start": 640.14,
                        "bin_end": 799.9499999999999,
                        "count": 0
                      },
                      {
                        "bin_start": 799.9499999999999,
                        "bin_end": 959.76,
                        "count": 0
                      },
                      {
                        "bin_start": 959.76,
                        "bin_end": 1119.5700000000002,
                        "count": 0
                      },
                      {
                        "bin_start": 1119.5700000000002,
                        "bin_end": 1279.38,
                        "count": 0
                      },
                      {
                        "bin_start": 1279.38,
                        "bin_end": 1439.19,
                        "count": 0
                      },
                      {
                        "bin_start": 1439.19,
                        "bin_end": 1599,
                        "count": 1
                      }
                    ]
                  }
                },
                {
                  "name": "chlorides",
                  "dtype": "float64",
                  "stats": {
                    "unique_count": 8,
                    "nan_count": 0,
                    "min": 0.012,
                    "max": 1599,
                    "histogram": [
                      {
                        "bin_start": 0.012,
                        "bin_end": 159.9108,
                        "count": 7
                      },
                      {
                        "bin_start": 159.9108,
                        "bin_end": 319.8096,
                        "count": 0
                      },
                      {
                        "bin_start": 319.8096,
                        "bin_end": 479.7084,
                        "count": 0
                      },
                      {
                        "bin_start": 479.7084,
                        "bin_end": 639.6071999999999,
                        "count": 0
                      },
                      {
                        "bin_start": 639.6071999999999,
                        "bin_end": 799.5059999999999,
                        "count": 0
                      },
                      {
                        "bin_start": 799.5059999999999,
                        "bin_end": 959.4047999999999,
                        "count": 0
                      },
                      {
                        "bin_start": 959.4047999999999,
                        "bin_end": 1119.3036,
                        "count": 0
                      },
                      {
                        "bin_start": 1119.3036,
                        "bin_end": 1279.2024,
                        "count": 0
                      },
                      {
                        "bin_start": 1279.2024,
                        "bin_end": 1439.1011999999998,
                        "count": 0
                      },
                      {
                        "bin_start": 1439.1011999999998,
                        "bin_end": 1599,
                        "count": 1
                      }
                    ]
                  }
                },
                {
                  "name": "free sulfur dioxide",
                  "dtype": "float64",
                  "stats": {
                    "unique_count": 8,
                    "nan_count": 0,
                    "min": 1,
                    "max": 1599,
                    "histogram": [
                      {
                        "bin_start": 1,
                        "bin_end": 160.8,
                        "count": 7
                      },
                      {
                        "bin_start": 160.8,
                        "bin_end": 320.6,
                        "count": 0
                      },
                      {
                        "bin_start": 320.6,
                        "bin_end": 480.40000000000003,
                        "count": 0
                      },
                      {
                        "bin_start": 480.40000000000003,
                        "bin_end": 640.2,
                        "count": 0
                      },
                      {
                        "bin_start": 640.2,
                        "bin_end": 800,
                        "count": 0
                      },
                      {
                        "bin_start": 800,
                        "bin_end": 959.8000000000001,
                        "count": 0
                      },
                      {
                        "bin_start": 959.8000000000001,
                        "bin_end": 1119.6000000000001,
                        "count": 0
                      },
                      {
                        "bin_start": 1119.6000000000001,
                        "bin_end": 1279.4,
                        "count": 0
                      },
                      {
                        "bin_start": 1279.4,
                        "bin_end": 1439.2,
                        "count": 0
                      },
                      {
                        "bin_start": 1439.2,
                        "bin_end": 1599,
                        "count": 1
                      }
                    ]
                  }
                },
                {
                  "name": "total sulfur dioxide",
                  "dtype": "float64",
                  "stats": {
                    "unique_count": 8,
                    "nan_count": 0,
                    "min": 6,
                    "max": 1599,
                    "histogram": [
                      {
                        "bin_start": 6,
                        "bin_end": 165.3,
                        "count": 6
                      },
                      {
                        "bin_start": 165.3,
                        "bin_end": 324.6,
                        "count": 1
                      },
                      {
                        "bin_start": 324.6,
                        "bin_end": 483.90000000000003,
                        "count": 0
                      },
                      {
                        "bin_start": 483.90000000000003,
                        "bin_end": 643.2,
                        "count": 0
                      },
                      {
                        "bin_start": 643.2,
                        "bin_end": 802.5,
                        "count": 0
                      },
                      {
                        "bin_start": 802.5,
                        "bin_end": 961.8000000000001,
                        "count": 0
                      },
                      {
                        "bin_start": 961.8000000000001,
                        "bin_end": 1121.1000000000001,
                        "count": 0
                      },
                      {
                        "bin_start": 1121.1000000000001,
                        "bin_end": 1280.4,
                        "count": 0
                      },
                      {
                        "bin_start": 1280.4,
                        "bin_end": 1439.7,
                        "count": 0
                      },
                      {
                        "bin_start": 1439.7,
                        "bin_end": 1599,
                        "count": 1
                      }
                    ]
                  }
                },
                {
                  "name": "density",
                  "dtype": "float64",
                  "stats": {
                    "unique_count": 8,
                    "nan_count": 0,
                    "min": 0.0018873339538425554,
                    "max": 1599,
                    "histogram": [
                      {
                        "bin_start": 0.0018873339538425554,
                        "bin_end": 159.90169860055846,
                        "count": 7
                      },
                      {
                        "bin_start": 159.90169860055846,
                        "bin_end": 319.8015098671631,
                        "count": 0
                      },
                      {
                        "bin_start": 319.8015098671631,
                        "bin_end": 479.7013211337677,
                        "count": 0
                      },
                      {
                        "bin_start": 479.7013211337677,
                        "bin_end": 639.6011324003723,
                        "count": 0
                      },
                      {
                        "bin_start": 639.6011324003723,
                        "bin_end": 799.5009436669769,
                        "count": 0
                      },
                      {
                        "bin_start": 799.5009436669769,
                        "bin_end": 959.4007549335815,
                        "count": 0
                      },
                      {
                        "bin_start": 959.4007549335815,
                        "bin_end": 1119.3005662001863,
                        "count": 0
                      },
                      {
                        "bin_start": 1119.3005662001863,
                        "bin_end": 1279.2003774667908,
                        "count": 0
                      },
                      {
                        "bin_start": 1279.2003774667908,
                        "bin_end": 1439.1001887333953,
                        "count": 0
                      },
                      {
                        "bin_start": 1439.1001887333953,
                        "bin_end": 1599,
                        "count": 1
                      }
                    ]
                  }
                },
                {
                  "name": "pH",
                  "dtype": "float64",
                  "stats": {
                    "unique_count": 8,
                    "nan_count": 0,
                    "min": 0.15438646490354277,
                    "max": 1599,
                    "histogram": [
                      {
                        "bin_start": 0.15438646490354277,
                        "bin_end": 160.0389478184132,
                        "count": 7
                      },
                      {
                        "bin_start": 160.0389478184132,
                        "bin_end": 319.92350917192283,
                        "count": 0
                      },
                      {
                        "bin_start": 319.92350917192283,
                        "bin_end": 479.80807052543247,
                        "count": 0
                      },
                      {
                        "bin_start": 479.80807052543247,
                        "bin_end": 639.692631878942,
                        "count": 0
                      },
                      {
                        "bin_start": 639.692631878942,
                        "bin_end": 799.5771932324517,
                        "count": 0
                      },
                      {
                        "bin_start": 799.5771932324517,
                        "bin_end": 959.4617545859613,
                        "count": 0
                      },
                      {
                        "bin_start": 959.4617545859613,
                        "bin_end": 1119.3463159394712,
                        "count": 0
                      },
                      {
                        "bin_start": 1119.3463159394712,
                        "bin_end": 1279.2308772929807,
                        "count": 0
                      },
                      {
                        "bin_start": 1279.2308772929807,
                        "bin_end": 1439.1154386464902,
                        "count": 0
                      },
                      {
                        "bin_start": 1439.1154386464902,
                        "bin_end": 1599,
                        "count": 1
                      }
                    ]
                  }
                },
                {
                  "name": "sulphates",
                  "dtype": "float64",
                  "stats": {
                    "unique_count": 8,
                    "nan_count": 0,
                    "min": 0.16950697959010996,
                    "max": 1599,
                    "histogram": [
                      {
                        "bin_start": 0.16950697959010996,
                        "bin_end": 160.0525562816311,
                        "count": 7
                      },
                      {
                        "bin_start": 160.0525562816311,
                        "bin_end": 319.9356055836721,
                        "count": 0
                      },
                      {
                        "bin_start": 319.9356055836721,
                        "bin_end": 479.8186548857131,
                        "count": 0
                      },
                      {
                        "bin_start": 479.8186548857131,
                        "bin_end": 639.7017041877541,
                        "count": 0
                      },
                      {
                        "bin_start": 639.7017041877541,
                        "bin_end": 799.584753489795,
                        "count": 0
                      },
                      {
                        "bin_start": 799.584753489795,
                        "bin_end": 959.4678027918361,
                        "count": 0
                      },
                      {
                        "bin_start": 959.4678027918361,
                        "bin_end": 1119.3508520938772,
                        "count": 0
                      },
                      {
                        "bin_start": 1119.3508520938772,
                        "bin_end": 1279.233901395918,
                        "count": 0
                      },
                      {
                        "bin_start": 1279.233901395918,
                        "bin_end": 1439.116950697959,
                        "count": 0
                      },
                      {
                        "bin_start": 1439.116950697959,
                        "bin_end": 1599,
                        "count": 1
                      }
                    ]
                  }
                },
                {
                  "name": "alcohol",
                  "dtype": "float64",
                  "stats": {
                    "unique_count": 8,
                    "nan_count": 0,
                    "min": 1.0656675818473946,
                    "max": 1599,
                    "histogram": [
                      {
                        "bin_start": 1.0656675818473946,
                        "bin_end": 160.85910082366266,
                        "count": 7
                      },
                      {
                        "bin_start": 160.85910082366266,
                        "bin_end": 320.6525340654779,
                        "count": 0
                      },
                      {
                        "bin_start": 320.6525340654779,
                        "bin_end": 480.44596730729313,
                        "count": 0
                      },
                      {
                        "bin_start": 480.44596730729313,
                        "bin_end": 640.2394005491084,
                        "count": 0
                      },
                      {
                        "bin_start": 640.2394005491084,
                        "bin_end": 800.0328337909236,
                        "count": 0
                      },
                      {
                        "bin_start": 800.0328337909236,
                        "bin_end": 959.8262670327389,
                        "count": 0
                      },
                      {
                        "bin_start": 959.8262670327389,
                        "bin_end": 1119.6197002745541,
                        "count": 0
                      },
                      {
                        "bin_start": 1119.6197002745541,
                        "bin_end": 1279.4131335163695,
                        "count": 0
                      },
                      {
                        "bin_start": 1279.4131335163695,
                        "bin_end": 1439.2065667581849,
                        "count": 0
                      },
                      {
                        "bin_start": 1439.2065667581849,
                        "bin_end": 1599,
                        "count": 1
                      }
                    ]
                  }
                },
                {
                  "name": "quality",
                  "dtype": "float64",
                  "stats": {
                    "unique_count": 7,
                    "nan_count": 0,
                    "min": 0.807569439734705,
                    "max": 1599,
                    "histogram": [
                      {
                        "bin_start": 0.807569439734705,
                        "bin_end": 160.62681249576124,
                        "count": 7
                      },
                      {
                        "bin_start": 160.62681249576124,
                        "bin_end": 320.4460555517878,
                        "count": 0
                      },
                      {
                        "bin_start": 320.4460555517878,
                        "bin_end": 480.2652986078144,
                        "count": 0
                      },
                      {
                        "bin_start": 480.2652986078144,
                        "bin_end": 640.0845416638409,
                        "count": 0
                      },
                      {
                        "bin_start": 640.0845416638409,
                        "bin_end": 799.9037847198675,
                        "count": 0
                      },
                      {
                        "bin_start": 799.9037847198675,
                        "bin_end": 959.723027775894,
                        "count": 0
                      },
                      {
                        "bin_start": 959.723027775894,
                        "bin_end": 1119.5422708319204,
                        "count": 0
                      },
                      {
                        "bin_start": 1119.5422708319204,
                        "bin_end": 1279.361513887947,
                        "count": 0
                      },
                      {
                        "bin_start": 1279.361513887947,
                        "bin_end": 1439.1807569439736,
                        "count": 0
                      },
                      {
                        "bin_start": 1439.1807569439736,
                        "bin_end": 1599,
                        "count": 1
                      }
                    ]
                  }
                },
                {
                  "name": "_deepnote_index_column",
                  "dtype": "object"
                }
              ],
              "rows_top": [
                {
                  "fixed acidity": 1599,
                  "volatile acidity": 1599,
                  "citric acid": 1599,
                  "residual sugar": 1599,
                  "chlorides": 1599,
                  "free sulfur dioxide": 1599,
                  "total sulfur dioxide": 1599,
                  "density": 1599,
                  "pH": 1599,
                  "sulphates": 1599,
                  "alcohol": 1599,
                  "quality": 1599,
                  "_deepnote_index_column": "count"
                },
                {
                  "fixed acidity": 8.31963727329581,
                  "volatile acidity": 0.5278205128205128,
                  "citric acid": 0.2709756097560976,
                  "residual sugar": 2.53880550343965,
                  "chlorides": 0.08746654158849279,
                  "free sulfur dioxide": 15.874921826141339,
                  "total sulfur dioxide": 46.46779237023139,
                  "density": 0.9967466791744841,
                  "pH": 3.3111131957473416,
                  "sulphates": 0.6581488430268917,
                  "alcohol": 10.422983114446529,
                  "quality": 5.6360225140712945,
                  "_deepnote_index_column": "mean"
                },
                {
                  "fixed acidity": 1.7410963181276953,
                  "volatile acidity": 0.17905970415353537,
                  "citric acid": 0.19480113740531857,
                  "residual sugar": 1.4099280595072798,
                  "chlorides": 0.0470653020100901,
                  "free sulfur dioxide": 10.460156969809725,
                  "total sulfur dioxide": 32.895324478299074,
                  "density": 0.0018873339538425554,
                  "pH": 0.15438646490354277,
                  "sulphates": 0.16950697959010996,
                  "alcohol": 1.0656675818473946,
                  "quality": 0.807569439734705,
                  "_deepnote_index_column": "std"
                },
                {
                  "fixed acidity": 4.6,
                  "volatile acidity": 0.12,
                  "citric acid": 0,
                  "residual sugar": 0.9,
                  "chlorides": 0.012,
                  "free sulfur dioxide": 1,
                  "total sulfur dioxide": 6,
                  "density": 0.99007,
                  "pH": 2.74,
                  "sulphates": 0.33,
                  "alcohol": 8.4,
                  "quality": 3,
                  "_deepnote_index_column": "min"
                },
                {
                  "fixed acidity": 7.1,
                  "volatile acidity": 0.39,
                  "citric acid": 0.09,
                  "residual sugar": 1.9,
                  "chlorides": 0.07,
                  "free sulfur dioxide": 7,
                  "total sulfur dioxide": 22,
                  "density": 0.9956,
                  "pH": 3.21,
                  "sulphates": 0.55,
                  "alcohol": 9.5,
                  "quality": 5,
                  "_deepnote_index_column": "25%"
                },
                {
                  "fixed acidity": 7.9,
                  "volatile acidity": 0.52,
                  "citric acid": 0.26,
                  "residual sugar": 2.2,
                  "chlorides": 0.079,
                  "free sulfur dioxide": 14,
                  "total sulfur dioxide": 38,
                  "density": 0.99675,
                  "pH": 3.31,
                  "sulphates": 0.62,
                  "alcohol": 10.2,
                  "quality": 6,
                  "_deepnote_index_column": "50%"
                },
                {
                  "fixed acidity": 9.2,
                  "volatile acidity": 0.64,
                  "citric acid": 0.42,
                  "residual sugar": 2.6,
                  "chlorides": 0.09,
                  "free sulfur dioxide": 21,
                  "total sulfur dioxide": 62,
                  "density": 0.997835,
                  "pH": 3.4,
                  "sulphates": 0.73,
                  "alcohol": 11.1,
                  "quality": 6,
                  "_deepnote_index_column": "75%"
                },
                {
                  "fixed acidity": 15.9,
                  "volatile acidity": 1.58,
                  "citric acid": 1,
                  "residual sugar": 15.5,
                  "chlorides": 0.611,
                  "free sulfur dioxide": 72,
                  "total sulfur dioxide": 289,
                  "density": 1.00369,
                  "pH": 4.01,
                  "sulphates": 2,
                  "alcohol": 14.9,
                  "quality": 8,
                  "_deepnote_index_column": "max"
                }
              ],
              "rows_bottom": null
            },
            "text/plain": "       fixed acidity  volatile acidity  citric acid  residual sugar  \\\ncount    1599.000000       1599.000000  1599.000000     1599.000000   \nmean        8.319637          0.527821     0.270976        2.538806   \nstd         1.741096          0.179060     0.194801        1.409928   \nmin         4.600000          0.120000     0.000000        0.900000   \n25%         7.100000          0.390000     0.090000        1.900000   \n50%         7.900000          0.520000     0.260000        2.200000   \n75%         9.200000          0.640000     0.420000        2.600000   \nmax        15.900000          1.580000     1.000000       15.500000   \n\n         chlorides  free sulfur dioxide  total sulfur dioxide      density  \\\ncount  1599.000000          1599.000000           1599.000000  1599.000000   \nmean      0.087467            15.874922             46.467792     0.996747   \nstd       0.047065            10.460157             32.895324     0.001887   \nmin       0.012000             1.000000              6.000000     0.990070   \n25%       0.070000             7.000000             22.000000     0.995600   \n50%       0.079000            14.000000             38.000000     0.996750   \n75%       0.090000            21.000000             62.000000     0.997835   \nmax       0.611000            72.000000            289.000000     1.003690   \n\n                pH    sulphates      alcohol      quality  \ncount  1599.000000  1599.000000  1599.000000  1599.000000  \nmean      3.311113     0.658149    10.422983     5.636023  \nstd       0.154386     0.169507     1.065668     0.807569  \nmin       2.740000     0.330000     8.400000     3.000000  \n25%       3.210000     0.550000     9.500000     5.000000  \n50%       3.310000     0.620000    10.200000     6.000000  \n75%       3.400000     0.730000    11.100000     6.000000  \nmax       4.010000     2.000000    14.900000     8.000000  ",
            "text/html": "<div>\n<style scoped>\n    .dataframe tbody tr th:only-of-type {\n        vertical-align: middle;\n    }\n\n    .dataframe tbody tr th {\n        vertical-align: top;\n    }\n\n    .dataframe thead th {\n        text-align: right;\n    }\n</style>\n<table border=\"1\" class=\"dataframe\">\n  <thead>\n    <tr style=\"text-align: right;\">\n      <th></th>\n      <th>fixed acidity</th>\n      <th>volatile acidity</th>\n      <th>citric acid</th>\n      <th>residual sugar</th>\n      <th>chlorides</th>\n      <th>free sulfur dioxide</th>\n      <th>total sulfur dioxide</th>\n      <th>density</th>\n      <th>pH</th>\n      <th>sulphates</th>\n      <th>alcohol</th>\n      <th>quality</th>\n    </tr>\n  </thead>\n  <tbody>\n    <tr>\n      <th>count</th>\n      <td>1599.000000</td>\n      <td>1599.000000</td>\n      <td>1599.000000</td>\n      <td>1599.000000</td>\n      <td>1599.000000</td>\n      <td>1599.000000</td>\n      <td>1599.000000</td>\n      <td>1599.000000</td>\n      <td>1599.000000</td>\n      <td>1599.000000</td>\n      <td>1599.000000</td>\n      <td>1599.000000</td>\n    </tr>\n    <tr>\n      <th>mean</th>\n      <td>8.319637</td>\n      <td>0.527821</td>\n      <td>0.270976</td>\n      <td>2.538806</td>\n      <td>0.087467</td>\n      <td>15.874922</td>\n      <td>46.467792</td>\n      <td>0.996747</td>\n      <td>3.311113</td>\n      <td>0.658149</td>\n      <td>10.422983</td>\n      <td>5.636023</td>\n    </tr>\n    <tr>\n      <th>std</th>\n      <td>1.741096</td>\n      <td>0.179060</td>\n      <td>0.194801</td>\n      <td>1.409928</td>\n      <td>0.047065</td>\n      <td>10.460157</td>\n      <td>32.895324</td>\n      <td>0.001887</td>\n      <td>0.154386</td>\n      <td>0.169507</td>\n      <td>1.065668</td>\n      <td>0.807569</td>\n    </tr>\n    <tr>\n      <th>min</th>\n      <td>4.600000</td>\n      <td>0.120000</td>\n      <td>0.000000</td>\n      <td>0.900000</td>\n      <td>0.012000</td>\n      <td>1.000000</td>\n      <td>6.000000</td>\n      <td>0.990070</td>\n      <td>2.740000</td>\n      <td>0.330000</td>\n      <td>8.400000</td>\n      <td>3.000000</td>\n    </tr>\n    <tr>\n      <th>25%</th>\n      <td>7.100000</td>\n      <td>0.390000</td>\n      <td>0.090000</td>\n      <td>1.900000</td>\n      <td>0.070000</td>\n      <td>7.000000</td>\n      <td>22.000000</td>\n      <td>0.995600</td>\n      <td>3.210000</td>\n      <td>0.550000</td>\n      <td>9.500000</td>\n      <td>5.000000</td>\n    </tr>\n    <tr>\n      <th>50%</th>\n      <td>7.900000</td>\n      <td>0.520000</td>\n      <td>0.260000</td>\n      <td>2.200000</td>\n      <td>0.079000</td>\n      <td>14.000000</td>\n      <td>38.000000</td>\n      <td>0.996750</td>\n      <td>3.310000</td>\n      <td>0.620000</td>\n      <td>10.200000</td>\n      <td>6.000000</td>\n    </tr>\n    <tr>\n      <th>75%</th>\n      <td>9.200000</td>\n      <td>0.640000</td>\n      <td>0.420000</td>\n      <td>2.600000</td>\n      <td>0.090000</td>\n      <td>21.000000</td>\n      <td>62.000000</td>\n      <td>0.997835</td>\n      <td>3.400000</td>\n      <td>0.730000</td>\n      <td>11.100000</td>\n      <td>6.000000</td>\n    </tr>\n    <tr>\n      <th>max</th>\n      <td>15.900000</td>\n      <td>1.580000</td>\n      <td>1.000000</td>\n      <td>15.500000</td>\n      <td>0.611000</td>\n      <td>72.000000</td>\n      <td>289.000000</td>\n      <td>1.003690</td>\n      <td>4.010000</td>\n      <td>2.000000</td>\n      <td>14.900000</td>\n      <td>8.000000</td>\n    </tr>\n  </tbody>\n</table>\n</div>"
          },
          "metadata": {}
        }
      ],
      "execution_count": null
    },
    {
      "cell_type": "code",
      "metadata": {
        "tags": [],
        "cell_id": "00006-1fda359e-3935-4f69-8cf1-b13976dbc17b",
        "deepnote_to_be_reexecuted": false,
        "source_hash": "8acd5715",
        "execution_millis": 14,
        "execution_start": 1617124903207,
        "deepnote_cell_type": "code"
      },
      "source": "# Handling Null Values \ndf.isnull().sum()",
      "outputs": [
        {
          "output_type": "execute_result",
          "execution_count": 4,
          "data": {
            "text/plain": "fixed acidity           0\nvolatile acidity        0\ncitric acid             0\nresidual sugar          0\nchlorides               0\nfree sulfur dioxide     0\ntotal sulfur dioxide    0\ndensity                 0\npH                      0\nsulphates               0\nalcohol                 0\nquality                 0\ndtype: int64"
          },
          "metadata": {}
        }
      ],
      "execution_count": null
    },
    {
      "cell_type": "code",
      "metadata": {
        "tags": [],
        "cell_id": "00008-0f755275-442c-4985-9db0-34276a3250ce",
        "deepnote_to_be_reexecuted": false,
        "source_hash": "74c18205",
        "execution_millis": 664,
        "execution_start": 1617124903216,
        "deepnote_cell_type": "code"
      },
      "source": "for index, entry in enumerate(df['quality']):\n    if entry >= 7:\n        df['quality'] [index] =  1\n    else:\n        df['quality'][index] = 0 ",
      "outputs": [
        {
          "name": "stderr",
          "text": "/shared-libs/python3.7/py-core/lib/python3.7/site-packages/ipykernel_launcher.py:5: SettingWithCopyWarning: \nA value is trying to be set on a copy of a slice from a DataFrame\n\nSee the caveats in the documentation: https://pandas.pydata.org/pandas-docs/stable/user_guide/indexing.html#returning-a-view-versus-a-copy\n  \"\"\"\n/shared-libs/python3.7/py-core/lib/python3.7/site-packages/ipykernel_launcher.py:3: SettingWithCopyWarning: \nA value is trying to be set on a copy of a slice from a DataFrame\n\nSee the caveats in the documentation: https://pandas.pydata.org/pandas-docs/stable/user_guide/indexing.html#returning-a-view-versus-a-copy\n  This is separate from the ipykernel package so we can avoid doing imports until\n",
          "output_type": "stream"
        }
      ],
      "execution_count": null
    },
    {
      "cell_type": "code",
      "metadata": {
        "tags": [],
        "cell_id": "00009-e460f472-8885-4985-b5c1-341a2f7087bc",
        "deepnote_to_be_reexecuted": false,
        "source_hash": "99effbfc",
        "execution_millis": 29,
        "execution_start": 1617124903884,
        "deepnote_cell_type": "code"
      },
      "source": "df['quality'].describe()",
      "outputs": [
        {
          "output_type": "execute_result",
          "execution_count": 6,
          "data": {
            "text/plain": "count    1599.000000\nmean        0.135710\nstd         0.342587\nmin         0.000000\n25%         0.000000\n50%         0.000000\n75%         0.000000\nmax         1.000000\nName: quality, dtype: float64"
          },
          "metadata": {}
        }
      ],
      "execution_count": null
    },
    {
      "cell_type": "code",
      "metadata": {
        "tags": [],
        "cell_id": "00010-f7a86096-a6e1-4703-9d59-73095e28ea89",
        "deepnote_to_be_reexecuted": false,
        "source_hash": "f43d64eb",
        "execution_millis": 1,
        "execution_start": 1617124903884,
        "deepnote_cell_type": "code"
      },
      "source": "x = df.iloc[:, :-1].values\ny = df.iloc[:, -1].values",
      "outputs": [],
      "execution_count": null
    },
    {
      "cell_type": "markdown",
      "source": "In machine learning, the performance of a model should not be evaluated on the training data. If the training data is the same as that of the test the machine will already have the repeats to the question.\nIt is important to test the machine on data it has never seen. This will give us an idea of its future performance on other data. The set test consists of 20% of the data and the other 80 make up the set train.",
      "metadata": {
        "tags": [],
        "cell_id": "00011-b5757e5f-f9b9-45d5-8cad-8fc7a7f62cc9",
        "deepnote_cell_type": "markdown"
      }
    },
    {
      "cell_type": "code",
      "metadata": {
        "tags": [],
        "cell_id": "00011-0edb2aa5-e127-4081-b995-b76f75a48c64",
        "deepnote_to_be_reexecuted": false,
        "source_hash": "782aa8ad",
        "execution_millis": 28,
        "execution_start": 1617124903885,
        "deepnote_cell_type": "code"
      },
      "source": "x_train, x_test, y_train, y_test = train_test_split(x, y, test_size= 0.2, random_state= 0)\nprint('train set : ', x_train.shape)\nprint('test set : ', x_test.shape)",
      "outputs": [
        {
          "name": "stdout",
          "text": "train set :  (1279, 11)\ntest set :  (320, 11)\n",
          "output_type": "stream"
        }
      ],
      "execution_count": null
    },
    {
      "cell_type": "code",
      "metadata": {
        "tags": [],
        "cell_id": "00013-62740e3c-9e5c-4797-bde5-11746ff3bf96",
        "deepnote_to_be_reexecuted": false,
        "source_hash": "1a7941c",
        "execution_millis": 290,
        "execution_start": 1617124903893,
        "deepnote_cell_type": "code"
      },
      "source": "plt.subplot(121)\nplt.scatter(x_train[:,0],x_train[:,1],c=y_train,alpha=0.8)\nplt.title('train set')\nplt.subplot(122)\nplt.scatter(x_test[:,0],x_test[:,1],c=y_test,alpha=0.8)\nplt.title('test set')",
      "outputs": [
        {
          "output_type": "execute_result",
          "execution_count": 9,
          "data": {
            "text/plain": "Text(0.5, 1.0, 'test set')"
          },
          "metadata": {}
        },
        {
          "data": {
            "text/plain": "<Figure size 432x288 with 2 Axes>",
            "image/png": "[encoded data removed]"
          },
          "metadata": {
            "needs_background": "light"
          },
          "output_type": "display_data"
        }
      ],
      "execution_count": null
    },
    {
      "cell_type": "code",
      "metadata": {
        "tags": [],
        "cell_id": "00014-34a3c43a-f8b9-47b3-9081-8496f759150d",
        "deepnote_to_be_reexecuted": false,
        "source_hash": "3d5c7735",
        "execution_millis": 332,
        "execution_start": 1617124904187,
        "deepnote_cell_type": "code"
      },
      "source": "class_names = ['fixed acidity','volatile acidity','citric acid','residual sugar','chlorides','free sulfur dioxide','total sulfur dioxide ','density','pH','sulphates','alcohol','quality']\ntrain = x_train.shape[0]\ntest = x_test.shape[0]\ndf_fig = pd.DataFrame({'train': train,'test': test},index=class_names)\n\nfig = go.Figure()\nfig.add_trace(go.Bar(\n    y=df_fig['train'],\n    name='Train Set',\n    marker_color='#12c2e9'\n))\nfig.add_trace(go.Bar(\n    y=df_fig['test'],\n    name='Test set',\n    marker_color='#c471ed'\n))\n\n\nfig.update_layout(barmode='group', xaxis_tickangle=-45, title_text=\"Distribution the set\")\nfig.show()",
      "outputs": [
        {
          "data": {
            "text/html": "<html>\n<head><meta charset=\"utf-8\" /></head>\n<body>\n    <div>            <script src=\"https://cdnjs.cloudflare.com/ajax/libs/mathjax/2.7.5/MathJax.js?config=TeX-AMS-MML_SVG\"></script><script type=\"text/javascript\">if (window.MathJax) {MathJax.Hub.Config({SVG: {font: \"STIX-Web\"}});}</script>                <script type=\"text/javascript\">window.PlotlyConfig = {MathJaxConfig: 'local'};</script>\n        <script src=\"https://cdn.plot.ly/plotly-latest.min.js\"></script>                <div id=\"20c9b668-2ad5-4abe-aa96-55063d88d8dc\" class=\"plotly-graph-div\" style=\"height:525px; width:100%;\"></div>            <script type=\"text/javascript\">                                    window.PLOTLYENV=window.PLOTLYENV || {};                                    if (document.getElementById(\"20c9b668-2ad5-4abe-aa96-55063d88d8dc\")) {                    Plotly.newPlot(                        \"20c9b668-2ad5-4abe-aa96-55063d88d8dc\",                        [{\"marker\": {\"color\": \"#12c2e9\"}, \"name\": \"Train Set\", \"type\": \"bar\", \"y\": [1279, 1279, 1279, 1279, 1279, 1279, 1279, 1279, 1279, 1279, 1279, 1279]}, {\"marker\": {\"color\": \"#c471ed\"}, \"name\": \"Test set\", \"type\": \"bar\", \"y\": [320, 320, 320, 320, 320, 320, 320, 320, 320, 320, 320, 320]}],                        {\"barmode\": \"group\", \"template\": {\"data\": {\"bar\": [{\"error_x\": {\"color\": \"#2a3f5f\"}, \"error_y\": {\"color\": \"#2a3f5f\"}, \"marker\": {\"line\": {\"color\": \"#E5ECF6\", \"width\": 0.5}}, \"type\": \"bar\"}], \"barpolar\": [{\"marker\": {\"line\": {\"color\": \"#E5ECF6\", \"width\": 0.5}}, \"type\": \"barpolar\"}], \"carpet\": [{\"aaxis\": {\"endlinecolor\": \"#2a3f5f\", \"gridcolor\": \"white\", \"linecolor\": \"white\", \"minorgridcolor\": \"white\", \"startlinecolor\": \"#2a3f5f\"}, \"baxis\": {\"endlinecolor\": \"#2a3f5f\", \"gridcolor\": \"white\", \"linecolor\": \"white\", \"minorgridcolor\": \"white\", \"startlinecolor\": \"#2a3f5f\"}, \"type\": \"carpet\"}], \"choropleth\": [{\"colorbar\": {\"outlinewidth\": 0, \"ticks\": \"\"}, \"type\": \"choropleth\"}], \"contour\": [{\"colorbar\": {\"outlinewidth\": 0, \"ticks\": \"\"}, \"colorscale\": [[0.0, \"#0d0887\"], [0.1111111111111111, \"#46039f\"], [0.2222222222222222, \"#7201a8\"], [0.3333333333333333, \"#9c179e\"], [0.4444444444444444, \"#bd3786\"], [0.5555555555555556, \"#d8576b\"], [0.6666666666666666, \"#ed7953\"], [0.7777777777777778, \"#fb9f3a\"], [0.8888888888888888, \"#fdca26\"], [1.0, \"#f0f921\"]], \"type\": \"contour\"}], \"contourcarpet\": [{\"colorbar\": {\"outlinewidth\": 0, \"ticks\": \"\"}, \"type\": \"contourcarpet\"}], \"heatmap\": [{\"colorbar\": {\"outlinewidth\": 0, \"ticks\": \"\"}, \"colorscale\": [[0.0, \"#0d0887\"], [0.1111111111111111, \"#46039f\"], [0.2222222222222222, \"#7201a8\"], [0.3333333333333333, \"#9c179e\"], [0.4444444444444444, \"#bd3786\"], [0.5555555555555556, \"#d8576b\"], [0.6666666666666666, \"#ed7953\"], [0.7777777777777778, \"#fb9f3a\"], [0.8888888888888888, \"#fdca26\"], [1.0, \"#f0f921\"]], \"type\": \"heatmap\"}], \"heatmapgl\": [{\"colorbar\": {\"outlinewidth\": 0, \"ticks\": \"\"}, \"colorscale\": [[0.0, \"#0d0887\"], [0.1111111111111111, \"#46039f\"], [0.2222222222222222, \"#7201a8\"], [0.3333333333333333, \"#9c179e\"], [0.4444444444444444, \"#bd3786\"], [0.5555555555555556, \"#d8576b\"], [0.6666666666666666, \"#ed7953\"], [0.7777777777777778, \"#fb9f3a\"], [0.8888888888888888, \"#fdca26\"], [1.0, \"#f0f921\"]], \"type\": \"heatmapgl\"}], \"histogram\": [{\"marker\": {\"colorbar\": {\"outlinewidth\": 0, \"ticks\": \"\"}}, \"type\": \"histogram\"}], \"histogram2d\": [{\"colorbar\": {\"outlinewidth\": 0, \"ticks\": \"\"}, \"colorscale\": [[0.0, \"#0d0887\"], [0.1111111111111111, \"#46039f\"], [0.2222222222222222, \"#7201a8\"], [0.3333333333333333, \"#9c179e\"], [0.4444444444444444, \"#bd3786\"], [0.5555555555555556, \"#d8576b\"], [0.6666666666666666, \"#ed7953\"], [0.7777777777777778, \"#fb9f3a\"], [0.8888888888888888, \"#fdca26\"], [1.0, \"#f0f921\"]], \"type\": \"histogram2d\"}], \"histogram2dcontour\": [{\"colorbar\": {\"outlinewidth\": 0, \"ticks\": \"\"}, \"colorscale\": [[0.0, \"#0d0887\"], [0.1111111111111111, \"#46039f\"], [0.2222222222222222, \"#7201a8\"], [0.3333333333333333, \"#9c179e\"], [0.4444444444444444, \"#bd3786\"], [0.5555555555555556, \"#d8576b\"], [0.6666666666666666, \"#ed7953\"], [0.7777777777777778, \"#fb9f3a\"], [0.8888888888888888, \"#fdca26\"], [1.0, \"#f0f921\"]], \"type\": \"histogram2dcontour\"}], \"mesh3d\": [{\"colorbar\": {\"outlinewidth\": 0, \"ticks\": \"\"}, \"type\": \"mesh3d\"}], \"parcoords\": [{\"line\": {\"colorbar\": {\"outlinewidth\": 0, \"ticks\": \"\"}}, \"type\": \"parcoords\"}], \"pie\": [{\"automargin\": true, \"type\": \"pie\"}], \"scatter\": [{\"marker\": {\"colorbar\": {\"outlinewidth\": 0, \"ticks\": \"\"}}, \"type\": \"scatter\"}], \"scatter3d\": [{\"line\": {\"colorbar\": {\"outlinewidth\": 0, \"ticks\": \"\"}}, \"marker\": {\"colorbar\": {\"outlinewidth\": 0, \"ticks\": \"\"}}, \"type\": \"scatter3d\"}], \"scattercarpet\": [{\"marker\": {\"colorbar\": {\"outlinewidth\": 0, \"ticks\": \"\"}}, \"type\": \"scattercarpet\"}], \"scattergeo\": [{\"marker\": {\"colorbar\": {\"outlinewidth\": 0, \"ticks\": \"\"}}, \"type\": \"scattergeo\"}], \"scattergl\": [{\"marker\": {\"colorbar\": {\"outlinewidth\": 0, \"ticks\": \"\"}}, \"type\": \"scattergl\"}], \"scattermapbox\": [{\"marker\": {\"colorbar\": {\"outlinewidth\": 0, \"ticks\": \"\"}}, \"type\": \"scattermapbox\"}], \"scatterpolar\": [{\"marker\": {\"colorbar\": {\"outlinewidth\": 0, \"ticks\": \"\"}}, \"type\": \"scatterpolar\"}], \"scatterpolargl\": [{\"marker\": {\"colorbar\": {\"outlinewidth\": 0, \"ticks\": \"\"}}, \"type\": \"scatterpolargl\"}], \"scatterternary\": [{\"marker\": {\"colorbar\": {\"outlinewidth\": 0, \"ticks\": \"\"}}, \"type\": \"scatterternary\"}], \"surface\": [{\"colorbar\": {\"outlinewidth\": 0, \"ticks\": \"\"}, \"colorscale\": [[0.0, \"#0d0887\"], [0.1111111111111111, \"#46039f\"], [0.2222222222222222, \"#7201a8\"], [0.3333333333333333, \"#9c179e\"], [0.4444444444444444, \"#bd3786\"], [0.5555555555555556, \"#d8576b\"], [0.6666666666666666, \"#ed7953\"], [0.7777777777777778, \"#fb9f3a\"], [0.8888888888888888, \"#fdca26\"], [1.0, \"#f0f921\"]], \"type\": \"surface\"}], \"table\": [{\"cells\": {\"fill\": {\"color\": \"#EBF0F8\"}, \"line\": {\"color\": \"white\"}}, \"header\": {\"fill\": {\"color\": \"#C8D4E3\"}, \"line\": {\"color\": \"white\"}}, \"type\": \"table\"}]}, \"layout\": {\"annotationdefaults\": {\"arrowcolor\": \"#2a3f5f\", \"arrowhead\": 0, \"arrowwidth\": 1}, \"autotypenumbers\": \"strict\", \"coloraxis\": {\"colorbar\": {\"outlinewidth\": 0, \"ticks\": \"\"}}, \"colorscale\": {\"diverging\": [[0, \"#8e0152\"], [0.1, \"#c51b7d\"], [0.2, \"#de77ae\"], [0.3, \"#f1b6da\"], [0.4, \"#fde0ef\"], [0.5, \"#f7f7f7\"], [0.6, \"#e6f5d0\"], [0.7, \"#b8e186\"], [0.8, \"#7fbc41\"], [0.9, \"#4d9221\"], [1, \"#276419\"]], \"sequential\": [[0.0, \"#0d0887\"], [0.1111111111111111, \"#46039f\"], [0.2222222222222222, \"#7201a8\"], [0.3333333333333333, \"#9c179e\"], [0.4444444444444444, \"#bd3786\"], [0.5555555555555556, \"#d8576b\"], [0.6666666666666666, \"#ed7953\"], [0.7777777777777778, \"#fb9f3a\"], [0.8888888888888888, \"#fdca26\"], [1.0, \"#f0f921\"]], \"sequentialminus\": [[0.0, \"#0d0887\"], [0.1111111111111111, \"#46039f\"], [0.2222222222222222, \"#7201a8\"], [0.3333333333333333, \"#9c179e\"], [0.4444444444444444, \"#bd3786\"], [0.5555555555555556, \"#d8576b\"], [0.6666666666666666, \"#ed7953\"], [0.7777777777777778, \"#fb9f3a\"], [0.8888888888888888, \"#fdca26\"], [1.0, \"#f0f921\"]]}, \"colorway\": [\"#636efa\", \"#EF553B\", \"#00cc96\", \"#ab63fa\", \"#FFA15A\", \"#19d3f3\", \"#FF6692\", \"#B6E880\", \"#FF97FF\", \"#FECB52\"], \"font\": {\"color\": \"#2a3f5f\"}, \"geo\": {\"bgcolor\": \"white\", \"lakecolor\": \"white\", \"landcolor\": \"#E5ECF6\", \"showlakes\": true, \"showland\": true, \"subunitcolor\": \"white\"}, \"hoverlabel\": {\"align\": \"left\"}, \"hovermode\": \"closest\", \"mapbox\": {\"style\": \"light\"}, \"paper_bgcolor\": \"white\", \"plot_bgcolor\": \"#E5ECF6\", \"polar\": {\"angularaxis\": {\"gridcolor\": \"white\", \"linecolor\": \"white\", \"ticks\": \"\"}, \"bgcolor\": \"#E5ECF6\", \"radialaxis\": {\"gridcolor\": \"white\", \"linecolor\": \"white\", \"ticks\": \"\"}}, \"scene\": {\"xaxis\": {\"backgroundcolor\": \"#E5ECF6\", \"gridcolor\": \"white\", \"gridwidth\": 2, \"linecolor\": \"white\", \"showbackground\": true, \"ticks\": \"\", \"zerolinecolor\": \"white\"}, \"yaxis\": {\"backgroundcolor\": \"#E5ECF6\", \"gridcolor\": \"white\", \"gridwidth\": 2, \"linecolor\": \"white\", \"showbackground\": true, \"ticks\": \"\", \"zerolinecolor\": \"white\"}, \"zaxis\": {\"backgroundcolor\": \"#E5ECF6\", \"gridcolor\": \"white\", \"gridwidth\": 2, \"linecolor\": \"white\", \"showbackground\": true, \"ticks\": \"\", \"zerolinecolor\": \"white\"}}, \"shapedefaults\": {\"line\": {\"color\": \"#2a3f5f\"}}, \"ternary\": {\"aaxis\": {\"gridcolor\": \"white\", \"linecolor\": \"white\", \"ticks\": \"\"}, \"baxis\": {\"gridcolor\": \"white\", \"linecolor\": \"white\", \"ticks\": \"\"}, \"bgcolor\": \"#E5ECF6\", \"caxis\": {\"gridcolor\": \"white\", \"linecolor\": \"white\", \"ticks\": \"\"}}, \"title\": {\"x\": 0.05}, \"xaxis\": {\"automargin\": true, \"gridcolor\": \"white\", \"linecolor\": \"white\", \"ticks\": \"\", \"title\": {\"standoff\": 15}, \"zerolinecolor\": \"white\", \"zerolinewidth\": 2}, \"yaxis\": {\"automargin\": true, \"gridcolor\": \"white\", \"linecolor\": \"white\", \"ticks\": \"\", \"title\": {\"standoff\": 15}, \"zerolinecolor\": \"white\", \"zerolinewidth\": 2}}}, \"title\": {\"text\": \"Distribution the set\"}, \"xaxis\": {\"tickangle\": -45}},                        {\"responsive\": true}                    ).then(function(){\n                            \nvar gd = document.getElementById('20c9b668-2ad5-4abe-aa96-55063d88d8dc');\nvar x = new MutationObserver(function (mutations, observer) {{\n        var display = window.getComputedStyle(gd).display;\n        if (!display || display === 'none') {{\n            console.log([gd, 'removed!']);\n            Plotly.purge(gd);\n            observer.disconnect();\n        }}\n}});\n\n// Listen for the removal of the full notebook cells\nvar notebookContainer = gd.closest('#notebook-container');\nif (notebookContainer) {{\n    x.observe(notebookContainer, {childList: true});\n}}\n\n// Listen for the clearing of the current output cell\nvar outputEl = gd.closest('.output');\nif (outputEl) {{\n    x.observe(outputEl, {childList: true});\n}}\n\n                        })                };                            </script>        </div>\n</body>\n</html>"
          },
          "metadata": {},
          "output_type": "display_data"
        }
      ],
      "execution_count": null
    },
    {
      "cell_type": "markdown",
      "source": "#### Normalisation\n\n- All values of the data are brought back between 0 and 1, while maintaining the distances between the values. This is done using RobustScaler; RobustScaler uses the interquartile interval unlike MinMaxscaler which uses the min and max values. We choose RobustScaler because it avoids outliers.\n\n",
      "metadata": {
        "tags": [],
        "cell_id": "00010-9c6168b8-caa3-4c88-9c96-fece721661dd",
        "deepnote_cell_type": "markdown"
      }
    },
    {
      "cell_type": "code",
      "metadata": {
        "tags": [],
        "cell_id": "00011-105e925e-87de-4e8d-ac0c-14bd5353cef5",
        "deepnote_to_be_reexecuted": false,
        "source_hash": "a3cf5d03",
        "execution_millis": 18,
        "execution_start": 1617124904459,
        "deepnote_cell_type": "code"
      },
      "source": "x_train = RobustScaler().fit_transform(x_train)\nx_test = RobustScaler().fit_transform(x_test)",
      "outputs": [],
      "execution_count": null
    },
    {
      "cell_type": "markdown",
      "source": "#### FEATURE SELECTION pour le model\n\n",
      "metadata": {
        "tags": [],
        "cell_id": "00012-366b934d-4e6f-48a1-b9a1-ef50907add4f",
        "deepnote_cell_type": "markdown"
      }
    },
    {
      "cell_type": "markdown",
      "source": "- Pre-entrainer l'estimateur et examiner ses coefficients pour voir quelles sont les variables importantes.  \n**SelectFromModel** entraine un estimateur puis selectionne les variables les plus importantes pour cet estimateur. \n \nRésultat == on a une matrice X de 1279 ligne et 11 cologne on veut la transformer en une matrice Y de 1 collogne et 1279 ligne. la matrice parametre téta est une matrice de 11 ligne et 1 cologne \nCette méthode permet de calculer la moyenne de toutes les variables et d'ensuite selectionner les variables qui sont au dessus de la moyenne. \nL'estimateur va ainsi selectionner toutes les variables superieur à -0.50. \n\n\n",
      "metadata": {
        "tags": [],
        "cell_id": "00016-753c9d99-fd47-40e4-8e97-2f772bbb4428",
        "deepnote_cell_type": "markdown"
      }
    },
    {
      "cell_type": "code",
      "metadata": {
        "tags": [],
        "cell_id": "00017-62bdd83a-054a-4619-a376-c0d5c9bea793",
        "deepnote_to_be_reexecuted": false,
        "source_hash": "10ecdb38",
        "execution_millis": 24,
        "execution_start": 1617124904477,
        "deepnote_cell_type": "code"
      },
      "source": "from sklearn.feature_selection import SelectFromModel\nfrom sklearn.linear_model import SGDClassifier\n",
      "outputs": [],
      "execution_count": null
    },
    {
      "cell_type": "code",
      "metadata": {
        "tags": [],
        "cell_id": "00019-ab13c0b1-3f1e-4d5e-a985-28c3abcb3d5b",
        "deepnote_to_be_reexecuted": false,
        "source_hash": "2823b2f4",
        "execution_millis": 17,
        "execution_start": 1617124904502,
        "deepnote_cell_type": "code"
      },
      "source": "select = SelectFromModel(SGDClassifier(random_state=0),\n                    threshold='mean' )\nselect.fit_transform(x_test,y_test)\nselect.fit_transform(x_train,y_train)\nselect.estimator_.coef_",
      "outputs": [
        {
          "output_type": "execute_result",
          "execution_count": 13,
          "data": {
            "text/plain": "array([[ 0.89665726, -2.16526124, -1.43465162, -0.14090328, -1.64387165,\n         1.25187148, -2.99906339, -0.90173899, -0.48450954, -0.16438716,\n         2.2633517 ]])"
          },
          "metadata": {}
        }
      ],
      "execution_count": null
    },
    {
      "cell_type": "code",
      "metadata": {
        "tags": [],
        "cell_id": "00020-41cf4f9d-b17c-4787-b91c-d4c4acc6658f",
        "deepnote_to_be_reexecuted": false,
        "source_hash": "2a55b654",
        "execution_millis": 13,
        "execution_start": 1617124904506,
        "deepnote_cell_type": "code"
      },
      "source": "# montre les dimention de la matrice téta \nselect.estimator_.coef_.shape\nselect.estimator_.coef_.mean(axis=0).mean()",
      "outputs": [
        {
          "output_type": "execute_result",
          "execution_count": 14,
          "data": {
            "text/plain": "-0.5020460389659726"
          },
          "metadata": {}
        }
      ],
      "execution_count": null
    },
    {
      "cell_type": "markdown",
      "source": "-  **Confusion Matrix** is a tool to measure the performance of a Machine Learning model by checking how often its predictions are true to reality in classification problems.",
      "metadata": {
        "tags": [],
        "cell_id": "00018-5a302498-e581-4452-baaa-3107eb37f2b6",
        "deepnote_cell_type": "markdown"
      }
    },
    {
      "cell_type": "code",
      "metadata": {
        "tags": [],
        "cell_id": "00018-35c64c41-dce2-4684-81eb-0f41f9d71cbf",
        "deepnote_to_be_reexecuted": false,
        "source_hash": "1b3c5956",
        "execution_millis": 1691,
        "execution_start": 1617124904559,
        "deepnote_cell_type": "code"
      },
      "source": "matriceofconfusion = plt.figure(figsize = (18,10))\nsns.heatmap(df.corr(), annot=True)\nplt.title('correlation of red wide quality')",
      "outputs": [
        {
          "output_type": "execute_result",
          "execution_count": 16,
          "data": {
            "text/plain": "Text(0.5, 1.0, 'correlation of red wide quality')"
          },
          "metadata": {}
        },
        {
          "data": {
            "text/plain": "<Figure size 1296x720 with 2 Axes>",
            "image/png": "[encoded data removed]"
          },
          "metadata": {
            "needs_background": "light"
          },
          "output_type": "display_data"
        }
      ],
      "execution_count": null
    },
    {
      "cell_type": "markdown",
      "source": "#### Prediction Model",
      "metadata": {
        "tags": [],
        "cell_id": "00021-87005573-d063-48bf-8182-e290a0f0c698",
        "deepnote_cell_type": "markdown"
      }
    },
    {
      "cell_type": "code",
      "metadata": {
        "tags": [],
        "cell_id": "00022-221bd825-3ea2-4c52-9653-f47b5fe05a01",
        "deepnote_to_be_reexecuted": false,
        "source_hash": "a6ce6be1",
        "execution_millis": 0,
        "execution_start": 1617129382982,
        "deepnote_cell_type": "code"
      },
      "source": "models = []\nmodels.append(['Logistic Regression', LogisticRegression(random_state=0)])\nmodels.append(['Decision Tree', DecisionTreeClassifier(random_state=0)])\nmodels.append(['Random Forest', RandomForestClassifier(random_state=0)])\nmodels.append(['SVM', SVC(random_state=0)])\nmodels.append(['KNeighbors', KNeighborsClassifier(n_neighbors=2)])\n",
      "outputs": [],
      "execution_count": null
    },
    {
      "cell_type": "code",
      "metadata": {
        "tags": [],
        "cell_id": "00023-269ee8f6-e21a-43dd-a525-200b7ae4975f",
        "deepnote_to_be_reexecuted": false,
        "source_hash": "e92fc668",
        "execution_millis": 3640,
        "execution_start": 1617129385460,
        "deepnote_cell_type": "code"
      },
      "source": "for i in range(len(models)):\n    model = models[i][1]\n    model.fit(x_train, y_train)\n    y_prediction = model.predict(x_test)\n    cm = confusion_matrix(y_test, y_prediction)\n    accuracies = cross_val_score(estimator = model, X = x_train, y = y_train, cv = 10)\n    print(models[i][0])\n    print(cm)\n    print('train score: ', model.score(x_train,y_train))\n    print('test score: ', model.score(x_test,y_test))\n    print('Accuracy Score',accuracy_score(y_test, y_prediction))\n    print(\"Mean Accuracy: {:.2f} %\".format(accuracies.mean()*100))\n    print(\"Standard Deviation: {:.2f} %\".format(accuracies.std()*100))\n    # separation des models pour ne pas confondre \n    print('----------------- models separation --------------------------')\n\n",
      "outputs": [
        {
          "name": "stdout",
          "text": "Logistic Regression\n[[277  13]\n [ 20  10]]\ntrain score:  0.8733385457388585\ntest score:  0.896875\nAccuracy Score 0.896875\nMean Accuracy: 86.86 %\nStandard Deviation: 3.12 %\n----------------- models separation --------------------------\nDecision Tree\n[[266  24]\n [ 12  18]]\ntrain score:  1.0\ntest score:  0.8875\nAccuracy Score 0.8875\nMean Accuracy: 86.47 %\nStandard Deviation: 3.78 %\n----------------- models separation --------------------------\nRandom Forest\n[[285   5]\n [ 16  14]]\ntrain score:  1.0\ntest score:  0.934375\nAccuracy Score 0.934375\nMean Accuracy: 90.31 %\nStandard Deviation: 1.44 %\n----------------- models separation --------------------------\nSVM\n[[287   3]\n [ 22   8]]\ntrain score:  0.8921032056293979\ntest score:  0.921875\nAccuracy Score 0.921875\nMean Accuracy: 87.26 %\nStandard Deviation: 2.32 %\n----------------- models separation --------------------------\nKNeighbors\n[[279  11]\n [ 17  13]]\ntrain score:  0.9421422986708365\ntest score:  0.9125\nAccuracy Score 0.9125\nMean Accuracy: 86.08 %\nStandard Deviation: 0.67 %\n----------------- models separation --------------------------\n",
          "output_type": "stream"
        }
      ],
      "execution_count": null
    },
    {
      "cell_type": "markdown",
      "source": "#### Model optimization: model improvement \n\n- Cross-validation: consider to train then validate the models on several possible cut of the train set. it is a method for estimating the reliability of a model based on a sampling technique. The K-party data set (folds in English) is roughly equal. each k-party is used in turn as a test data set. The rest is used as training. Then we average the scores obtained and choose the score that is closest to the average. this is how we define the best parameters. Here, we choose to separate the data into 5 and we will agree on the KNeighborsclassifier. ",
      "metadata": {
        "tags": [],
        "cell_id": "00026-86c78123-5bf7-4bdb-ad06-7bf8f911db56",
        "deepnote_cell_type": "markdown"
      }
    },
    {
      "cell_type": "code",
      "metadata": {
        "tags": [],
        "cell_id": "00026-ba499ad8-669e-44a8-a874-8cbadf8123c2",
        "deepnote_to_be_reexecuted": false,
        "source_hash": "f24c06b2",
        "execution_millis": 80,
        "execution_start": 1617124909865,
        "deepnote_cell_type": "code"
      },
      "source": "from sklearn.model_selection import cross_val_score, validation_curve, GridSearchCV\n\ncross_val_score(KNeighborsClassifier(), x_train, y_train, cv=5, scoring='accuracy')\n",
      "outputs": [
        {
          "output_type": "execute_result",
          "execution_count": 19,
          "data": {
            "text/plain": "array([0.83203125, 0.875     , 0.82421875, 0.875     , 0.87843137])"
          },
          "metadata": {}
        }
      ],
      "execution_count": null
    },
    {
      "cell_type": "code",
      "metadata": {
        "tags": [],
        "cell_id": "00028-3eec9e03-c3d1-4030-a2b3-ce820bf15279",
        "deepnote_to_be_reexecuted": false,
        "source_hash": "88aeac7",
        "execution_millis": 15764,
        "execution_start": 1617139289556,
        "deepnote_cell_type": "code"
      },
      "source": "# validation curve  \nmodel_ = KNeighborsClassifier()\nk = np.arange(1, 50)\ntrain_score, val_score = validation_curve(model_, x_train, y_train, 'n_neighbors', k, cv=5)\n\nplt.plot(k,train_score.mean(axis=1), label='validation' )\nplt.plot(k,val_score.mean(axis=1), label='train' )\nplt.title('n_neighbors / score')\nplt.xlabel('n_neighbors')\nplt.ylabel('score')\nplt.legend()",
      "outputs": [
        {
          "name": "stderr",
          "text": "/shared-libs/python3.7/py/lib/python3.7/site-packages/sklearn/utils/validation.py:72: FutureWarning:\n\nPass param_name=n_neighbors, param_range=[ 1  2  3  4  5  6  7  8  9 10 11 12 13 14 15 16 17 18 19 20 21 22 23 24\n 25 26 27 28 29 30 31 32 33 34 35 36 37 38 39 40 41 42 43 44 45 46 47 48\n 49] as keyword args. From version 1.0 (renaming of 0.25) passing these as positional arguments will result in an error\n\n",
          "output_type": "stream"
        },
        {
          "output_type": "execute_result",
          "execution_count": 27,
          "data": {
            "text/plain": "<matplotlib.legend.Legend at 0x7f69eb7b64d0>"
          },
          "metadata": {}
        },
        {
          "data": {
            "text/plain": "<Figure size 432x288 with 1 Axes>",
            "image/png": "[encoded data removed]"
          },
          "metadata": {
            "needs_background": "light"
          },
          "output_type": "display_data"
        }
      ],
      "execution_count": null
    },
    {
      "cell_type": "code",
      "metadata": {
        "tags": [],
        "cell_id": "00030-933eb399-e3a3-4a73-9f49-e28b8570da49",
        "deepnote_to_be_reexecuted": false,
        "source_hash": "5e74f869",
        "execution_millis": 57515,
        "execution_start": 1617139513861,
        "deepnote_cell_type": "code"
      },
      "source": "# validation curve  \nmodel_ = RandomForestClassifier()\nj = np.arange(1, 50)\ntrain_score, val_score = validation_curve(model_, x_train, y_train, 'random_state', j, cv=5)\n\nplt.plot(j,train_score.mean(axis=1), label='validation' )\nplt.plot(j,val_score.mean(axis=1), label='train' )\nplt.title('random_state / score')\nplt.xlabel('random_state')\nplt.ylabel('score')\nplt.legend()",
      "outputs": [
        {
          "name": "stderr",
          "text": "/shared-libs/python3.7/py/lib/python3.7/site-packages/sklearn/utils/validation.py:72: FutureWarning:\n\nPass param_name=random_state, param_range=[ 1  2  3  4  5  6  7  8  9 10 11 12 13 14 15 16 17 18 19 20 21 22 23 24\n 25 26 27 28 29 30 31 32 33 34 35 36 37 38 39 40 41 42 43 44 45 46 47 48\n 49] as keyword args. From version 1.0 (renaming of 0.25) passing these as positional arguments will result in an error\n\n",
          "output_type": "stream"
        },
        {
          "output_type": "execute_result",
          "execution_count": 29,
          "data": {
            "text/plain": "<matplotlib.legend.Legend at 0x7f69f2b12d10>"
          },
          "metadata": {}
        },
        {
          "data": {
            "text/plain": "<Figure size 432x288 with 1 Axes>",
            "image/png": "[encoded data removed]"
          },
          "metadata": {
            "needs_background": "light"
          },
          "output_type": "display_data"
        }
      ],
      "execution_count": null
    },
    {
      "cell_type": "markdown",
      "source": "- gridSearchCV : builds a grid of models with all combinations of hyperparameters present.",
      "metadata": {
        "tags": [],
        "cell_id": "00030-d1c31980-800b-4b2f-bf35-85ff582e7345",
        "deepnote_cell_type": "markdown"
      }
    },
    {
      "cell_type": "code",
      "metadata": {
        "tags": [],
        "cell_id": "00031-b04f2fc6-25ef-4263-972a-d1d4f907352f",
        "deepnote_to_be_reexecuted": false,
        "source_hash": "f59365f1",
        "execution_millis": 2765,
        "execution_start": 1617124925992,
        "deepnote_cell_type": "code"
      },
      "source": "from sklearn.model_selection import GridSearchCV\nparam_grid = {'n_neighbors': np.arange(1,20), 'metric': ['euclidean', 'manhattan']}\ngrid= GridSearchCV(KNeighborsClassifier(), param_grid, cv=5)\ngrid.fit(x_train, y_train) # entrainement de l'estimateur ",
      "outputs": [
        {
          "output_type": "execute_result",
          "execution_count": 21,
          "data": {
            "text/plain": "GridSearchCV(cv=5, estimator=KNeighborsClassifier(),\n             param_grid={'metric': ['euclidean', 'manhattan'],\n                         'n_neighbors': array([ 1,  2,  3,  4,  5,  6,  7,  8,  9, 10, 11, 12, 13, 14, 15, 16, 17,\n       18, 19])})"
          },
          "metadata": {}
        }
      ],
      "execution_count": null
    },
    {
      "cell_type": "code",
      "metadata": {
        "tags": [],
        "cell_id": "00033-ba78ba5a-9edd-490f-8cd0-817a1cb1a65d",
        "deepnote_to_be_reexecuted": false,
        "source_hash": "119fd1fd",
        "execution_millis": 5,
        "execution_start": 1617124928741,
        "deepnote_cell_type": "code"
      },
      "source": "m = grid.best_estimator_ # sauvegarde du modele qui a obtenue la meilleur estimation ",
      "outputs": [],
      "execution_count": null
    },
    {
      "cell_type": "code",
      "metadata": {
        "tags": [],
        "cell_id": "00034-f25d9148-1ddb-43aa-ab72-9ac443ca84a8",
        "deepnote_to_be_reexecuted": false,
        "source_hash": "384a70bc",
        "execution_millis": 12,
        "execution_start": 1617124928746,
        "deepnote_cell_type": "code"
      },
      "source": "grid.best_score_ # le meilleur score pour le train ",
      "outputs": [
        {
          "output_type": "execute_result",
          "execution_count": 23,
          "data": {
            "text/plain": "0.8686611519607844"
          },
          "metadata": {}
        }
      ],
      "execution_count": null
    },
    {
      "cell_type": "code",
      "metadata": {
        "tags": [],
        "cell_id": "00035-d5e18b2f-226d-4b32-a84d-ba6a770b80db",
        "deepnote_to_be_reexecuted": false,
        "source_hash": "c2478396",
        "execution_millis": 32,
        "execution_start": 1617124928753,
        "deepnote_cell_type": "code"
      },
      "source": "# tester ce model sur les données test \nm.score(x_test, y_test)\nconfusion_matrix(y_test, m.predict(x_test))",
      "outputs": [
        {
          "output_type": "execute_result",
          "execution_count": 24,
          "data": {
            "text/plain": "array([[267,  23],\n       [ 12,  18]])"
          },
          "metadata": {}
        }
      ],
      "execution_count": null
    },
    {
      "cell_type": "markdown",
      "source": "<a style='text-decoration:none;line-height:16px;display:flex;color:#5B5B62;padding:10px;justify-content:end;' href='https://deepnote.com?utm_source=created-in-deepnote-cell&projectId=3630e863-cadc-4873-8b6d-5bc0c3918764' target=\"_blank\">\n<img style='display:inline;max-height:16px;margin:0px;margin-right:7.5px;' src='data:image/svg+xml;base64,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' > </img>\nCreated in <span style='font-weight:600;margin-left:4px;'>Deepnote</span></a>",
      "metadata": {
        "tags": [],
        "created_in_deepnote_cell": true,
        "deepnote_cell_type": "markdown"
      }
    }
  ],
  "nbformat": 4,
  "nbformat_minor": 2,
  "metadata": {
    "orig_nbformat": 2,
    "deepnote_notebook_id": "f1f471f6-ff50-40b8-8035-d8b9778effd6",
    "deepnote": {},
    "deepnote_execution_queue": []
  }
}